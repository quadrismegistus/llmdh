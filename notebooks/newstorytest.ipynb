{
 "cells": [
  {
   "cell_type": "code",
   "execution_count": 17,
   "metadata": {},
   "outputs": [],
   "source": [
    "import sys\n",
    "sys.path.insert(0,'..')\n",
    "from llmdh.story_llms import *"
   ]
  },
  {
   "cell_type": "code",
   "execution_count": 18,
   "metadata": {},
   "outputs": [
    {
     "data": {
      "text/plain": [
       "(32191, 115296)"
      ]
     },
     "execution_count": 18,
     "metadata": {},
     "output_type": "execute_result"
    }
   ],
   "source": [
    "db=BechdelScreenplayLLM.get_db()\n",
    "dbc=BechdelScreenplayLLM.get_corpus_db()\n",
    "len(dbc) - len(db), len(db)"
   ]
  },
  {
   "cell_type": "code",
   "execution_count": 19,
   "metadata": {},
   "outputs": [
    {
     "name": "stderr",
     "output_type": "stream",
     "text": [
      "  0%|          | 7/32191 [00:22<26:13:55,  2.93s/it]\u001b[31m\u001b[1mThe `response.parts` quick accessor only works for a single candidate, but none were returned. Check the `response.prompt_feedback` to see if the prompt was blocked.\u001b[0m\u001b[36m @ 2024-05-08 09:02:38,046\u001b[0m\n",
      "  0%|          | 39/32191 [01:45<25:16:08,  2.83s/it]\u001b[31m\u001b[1mThe `response.parts` quick accessor only works for a single candidate, but none were returned. Check the `response.prompt_feedback` to see if the prompt was blocked.\u001b[0m\u001b[36m @ 2024-05-08 09:04:03,168\u001b[0m\n",
      "  0%|          | 62/32191 [02:56<23:26:29,  2.63s/it]\u001b[31m\u001b[1mThe `response.parts` quick accessor only works for a single candidate, but none were returned. Check the `response.prompt_feedback` to see if the prompt was blocked.\u001b[0m\u001b[36m @ 2024-05-08 09:05:14,221\u001b[0m\n",
      "  0%|          | 148/32191 [07:00<23:24:57,  2.63s/it]\u001b[31m\u001b[1mThe `response.parts` quick accessor only works for a single candidate, but none were returned. Check the `response.prompt_feedback` to see if the prompt was blocked.\u001b[0m\u001b[36m @ 2024-05-08 09:09:16,147\u001b[0m\n",
      "  1%|          | 248/32191 [11:51<25:17:03,  2.85s/it]\u001b[31m\u001b[1mThe `response.parts` quick accessor only works for a single candidate, but none were returned. Check the `response.prompt_feedback` to see if the prompt was blocked.\u001b[0m\u001b[36m @ 2024-05-08 09:14:07,895\u001b[0m\n",
      "  1%|          | 279/32191 [13:19<24:22:20,  2.75s/it]\u001b[31m\u001b[1mThe `response.parts` quick accessor only works for a single candidate, but none were returned. Check the `response.prompt_feedback` to see if the prompt was blocked.\u001b[0m\u001b[36m @ 2024-05-08 09:15:36,153\u001b[0m\n",
      "  1%|          | 312/32191 [14:48<22:37:48,  2.56s/it]\u001b[31m\u001b[1m504 Deadline Exceeded\u001b[0m\u001b[36m @ 2024-05-08 09:18:04,025\u001b[0m\n",
      "  1%|          | 352/32191 [18:12<27:33:55,  3.12s/it] \u001b[31m\u001b[1mThe `response.parts` quick accessor only works for a single candidate, but none were returned. Check the `response.prompt_feedback` to see if the prompt was blocked.\u001b[0m\u001b[36m @ 2024-05-08 09:20:28,258\u001b[0m\n",
      "  1%|▏         | 443/32191 [22:32<40:06:29,  4.55s/it]\u001b[31m\u001b[1mThe `response.parts` quick accessor only works for a single candidate, but none were returned. Check the `response.prompt_feedback` to see if the prompt was blocked.\u001b[0m\u001b[36m @ 2024-05-08 09:24:47,961\u001b[0m\n",
      "  2%|▏         | 505/32191 [25:12<25:19:09,  2.88s/it]\u001b[31m\u001b[1mThe `response.parts` quick accessor only works for a single candidate, but none were returned. Check the `response.prompt_feedback` to see if the prompt was blocked.\u001b[0m\u001b[36m @ 2024-05-08 09:27:29,982\u001b[0m\n",
      "  2%|▏         | 507/32191 [25:17<23:07:28,  2.63s/it]\u001b[31m\u001b[1mThe `response.parts` quick accessor only works for a single candidate, but none were returned. Check the `response.prompt_feedback` to see if the prompt was blocked.\u001b[0m\u001b[36m @ 2024-05-08 09:27:36,664\u001b[0m\n",
      "  2%|▏         | 608/32191 [29:39<22:48:43,  2.60s/it]\u001b[31m\u001b[1mThe `response.parts` quick accessor only works for a single candidate, but none were returned. Check the `response.prompt_feedback` to see if the prompt was blocked.\u001b[0m\u001b[36m @ 2024-05-08 09:31:59,316\u001b[0m\n",
      "  2%|▏         | 637/32191 [31:00<34:58:30,  3.99s/it]\u001b[31m\u001b[1m504 Deadline Exceeded\u001b[0m\u001b[36m @ 2024-05-08 09:34:15,519\u001b[0m\n",
      "  2%|▏         | 731/32191 [36:24<23:49:11,  2.73s/it] \u001b[31m\u001b[1mThe `response.parts` quick accessor only works for a single candidate, but none were returned. Check the `response.prompt_feedback` to see if the prompt was blocked.\u001b[0m\u001b[36m @ 2024-05-08 09:38:40,838\u001b[0m\n",
      "  3%|▎         | 857/32191 [41:50<20:58:26,  2.41s/it]\u001b[31m\u001b[1mThe `response.parts` quick accessor only works for a single candidate, but none were returned. Check the `response.prompt_feedback` to see if the prompt was blocked.\u001b[0m\u001b[36m @ 2024-05-08 09:44:07,610\u001b[0m\n",
      "  3%|▎         | 969/32191 [46:52<23:17:12,  2.69s/it]\u001b[31m\u001b[1mThe `response.parts` quick accessor only works for a single candidate, but none were returned. Check the `response.prompt_feedback` to see if the prompt was blocked.\u001b[0m\u001b[36m @ 2024-05-08 09:49:08,949\u001b[0m\n",
      "  3%|▎         | 977/32191 [47:10<19:49:52,  2.29s/it]\u001b[31m\u001b[1m504 Deadline Exceeded\u001b[0m\u001b[36m @ 2024-05-08 09:50:25,530\u001b[0m\n",
      "  3%|▎         | 1033/32191 [50:45<19:34:48,  2.26s/it]\u001b[31m\u001b[1mThe `response.parts` quick accessor only works for a single candidate, but none were returned. Check the `response.prompt_feedback` to see if the prompt was blocked.\u001b[0m\u001b[36m @ 2024-05-08 09:53:01,725\u001b[0m\n",
      "  3%|▎         | 1040/32191 [51:02<23:11:13,  2.68s/it]\u001b[31m\u001b[1mThe `response.parts` quick accessor only works for a single candidate, but none were returned. Check the `response.prompt_feedback` to see if the prompt was blocked.\u001b[0m\u001b[36m @ 2024-05-08 09:53:18,766\u001b[0m\n",
      "  4%|▎         | 1177/32191 [56:53<21:01:30,  2.44s/it]\u001b[31m\u001b[1mThe `response.parts` quick accessor only works for a single candidate, but none were returned. Check the `response.prompt_feedback` to see if the prompt was blocked.\u001b[0m\u001b[36m @ 2024-05-08 09:59:09,415\u001b[0m\n",
      "  4%|▍         | 1332/32191 [1:03:22<20:55:08,  2.44s/it]\u001b[31m\u001b[1m504 Deadline Exceeded\u001b[0m\u001b[36m @ 2024-05-08 10:06:38,156\u001b[0m\n",
      "  4%|▍         | 1396/32191 [1:07:42<29:12:14,  3.41s/it] \u001b[31m\u001b[1mThe `response.parts` quick accessor only works for a single candidate, but none were returned. Check the `response.prompt_feedback` to see if the prompt was blocked.\u001b[0m\u001b[36m @ 2024-05-08 10:09:58,959\u001b[0m\n",
      "  5%|▍         | 1476/32191 [1:11:07<23:23:00,  2.74s/it]\u001b[31m\u001b[1m500 An internal error has occurred. Please retry or report in https://developers.generativeai.google/guide/troubleshooting\u001b[0m\u001b[36m @ 2024-05-08 10:13:23,535\u001b[0m\n",
      "  5%|▌         | 1666/32191 [1:19:34<28:08:15,  3.32s/it]\u001b[31m\u001b[1m504 Deadline Exceeded\u001b[0m\u001b[36m @ 2024-05-08 10:22:49,429\u001b[0m\n",
      "  5%|▌         | 1714/32191 [1:22:47<20:58:33,  2.48s/it] \u001b[31m\u001b[1mThe `response.parts` quick accessor only works for a single candidate, but none were returned. Check the `response.prompt_feedback` to see if the prompt was blocked.\u001b[0m\u001b[36m @ 2024-05-08 10:25:03,667\u001b[0m\n",
      "  6%|▌         | 1852/32191 [1:28:31<18:01:52,  2.14s/it]\u001b[31m\u001b[1mThe `response.parts` quick accessor only works for a single candidate, but none were returned. Check the `response.prompt_feedback` to see if the prompt was blocked.\u001b[0m\u001b[36m @ 2024-05-08 10:30:46,972\u001b[0m\n",
      "  6%|▌         | 1936/32191 [1:32:01<20:06:22,  2.39s/it]\u001b[31m\u001b[1mThe `response.parts` quick accessor only works for a single candidate, but none were returned. Check the `response.prompt_feedback` to see if the prompt was blocked.\u001b[0m\u001b[36m @ 2024-05-08 10:34:17,841\u001b[0m\n",
      "  6%|▌         | 1943/32191 [1:32:16<19:55:15,  2.37s/it]\u001b[31m\u001b[1mThe `response.parts` quick accessor only works for a single candidate, but none were returned. Check the `response.prompt_feedback` to see if the prompt was blocked.\u001b[0m\u001b[36m @ 2024-05-08 10:34:32,668\u001b[0m\n",
      "  6%|▋         | 2025/32191 [1:35:45<19:56:42,  2.38s/it]\u001b[31m\u001b[1m504 Deadline Exceeded\u001b[0m\u001b[36m @ 2024-05-08 10:39:00,564\u001b[0m\n",
      "  6%|▋         | 2057/32191 [1:38:34<21:01:33,  2.51s/it] \u001b[31m\u001b[1mThe `response.parts` quick accessor only works for a single candidate, but none were returned. Check the `response.prompt_feedback` to see if the prompt was blocked.\u001b[0m\u001b[36m @ 2024-05-08 10:40:49,951\u001b[0m\n",
      "  6%|▋         | 2065/32191 [1:38:51<20:42:05,  2.47s/it]\u001b[31m\u001b[1mThe `response.parts` quick accessor only works for a single candidate, but none were returned. Check the `response.prompt_feedback` to see if the prompt was blocked.\u001b[0m\u001b[36m @ 2024-05-08 10:41:07,124\u001b[0m\n",
      "  7%|▋         | 2138/32191 [1:41:55<22:27:38,  2.69s/it]\u001b[31m\u001b[1mThe `response.parts` quick accessor only works for a single candidate, but none were returned. Check the `response.prompt_feedback` to see if the prompt was blocked.\u001b[0m\u001b[36m @ 2024-05-08 10:44:11,147\u001b[0m\n",
      "  7%|▋         | 2183/32191 [1:43:53<20:34:58,  2.47s/it]\u001b[31m\u001b[1mThe `response.parts` quick accessor only works for a single candidate, but none were returned. Check the `response.prompt_feedback` to see if the prompt was blocked.\u001b[0m\u001b[36m @ 2024-05-08 10:46:09,464\u001b[0m\n",
      "  7%|▋         | 2259/32191 [1:47:13<20:41:46,  2.49s/it]\u001b[31m\u001b[1mThe `response.parts` quick accessor only works for a single candidate, but none were returned. Check the `response.prompt_feedback` to see if the prompt was blocked.\u001b[0m\u001b[36m @ 2024-05-08 10:49:29,523\u001b[0m\n",
      "  7%|▋         | 2260/32191 [1:47:14<16:36:18,  2.00s/it]\u001b[31m\u001b[1mThe `response.parts` quick accessor only works for a single candidate, but none were returned. Check the `response.prompt_feedback` to see if the prompt was blocked.\u001b[0m\u001b[36m @ 2024-05-08 10:49:30,106\u001b[0m\n",
      "  7%|▋         | 2292/32191 [1:48:30<22:28:06,  2.71s/it]\u001b[31m\u001b[1mThe `response.parts` quick accessor only works for a single candidate, but none were returned. Check the `response.prompt_feedback` to see if the prompt was blocked.\u001b[0m\u001b[36m @ 2024-05-08 10:50:46,795\u001b[0m\n",
      "  7%|▋         | 2316/32191 [1:49:27<19:10:35,  2.31s/it]\u001b[31m\u001b[1mThe `response.parts` quick accessor only works for a single candidate, but none were returned. Check the `response.prompt_feedback` to see if the prompt was blocked.\u001b[0m\u001b[36m @ 2024-05-08 10:51:44,497\u001b[0m\n",
      "  7%|▋         | 2369/32191 [1:51:58<22:29:26,  2.71s/it]\u001b[31m\u001b[1m504 Deadline Exceeded\u001b[0m\u001b[36m @ 2024-05-08 10:55:13,691\u001b[0m\n",
      "  7%|▋         | 2389/32191 [1:54:02<24:17:27,  2.93s/it] \u001b[31m\u001b[1mThe `response.parts` quick accessor only works for a single candidate, but none were returned. Check the `response.prompt_feedback` to see if the prompt was blocked.\u001b[0m\u001b[36m @ 2024-05-08 10:56:19,316\u001b[0m\n",
      "  8%|▊         | 2504/32191 [1:59:10<25:51:41,  3.14s/it]\u001b[31m\u001b[1mThe `response.parts` quick accessor only works for a single candidate, but none were returned. Check the `response.prompt_feedback` to see if the prompt was blocked.\u001b[0m\u001b[36m @ 2024-05-08 11:01:27,787\u001b[0m\n",
      "  8%|▊         | 2679/32191 [2:07:00<20:26:01,  2.49s/it]\u001b[31m\u001b[1mThe `response.parts` quick accessor only works for a single candidate, but none were returned. Check the `response.prompt_feedback` to see if the prompt was blocked.\u001b[0m\u001b[36m @ 2024-05-08 11:09:18,225\u001b[0m\n",
      "  8%|▊         | 2684/32191 [2:07:15<25:06:30,  3.06s/it]\u001b[31m\u001b[1mThe `response.parts` quick accessor only works for a single candidate, but none were returned. Check the `response.prompt_feedback` to see if the prompt was blocked.\u001b[0m\u001b[36m @ 2024-05-08 11:09:31,859\u001b[0m\n",
      "  8%|▊         | 2704/32191 [2:08:06<19:48:10,  2.42s/it]\u001b[31m\u001b[1m504 Deadline Exceeded\u001b[0m\u001b[36m @ 2024-05-08 11:11:22,141\u001b[0m\n",
      "  9%|▊         | 2772/32191 [2:12:23<24:07:13,  2.95s/it] \u001b[31m\u001b[1mThe `response.parts` quick accessor only works for a single candidate, but none were returned. Check the `response.prompt_feedback` to see if the prompt was blocked.\u001b[0m\u001b[36m @ 2024-05-08 11:14:40,184\u001b[0m\n",
      "  9%|▊         | 2805/32191 [2:13:50<20:41:18,  2.53s/it]\u001b[31m\u001b[1mThe `response.parts` quick accessor only works for a single candidate, but none were returned. Check the `response.prompt_feedback` to see if the prompt was blocked.\u001b[0m\u001b[36m @ 2024-05-08 11:16:06,475\u001b[0m\n",
      "  9%|▉         | 2858/32191 [2:16:20<21:52:40,  2.69s/it]\u001b[31m\u001b[1mThe `response.parts` quick accessor only works for a single candidate, but none were returned. Check the `response.prompt_feedback` to see if the prompt was blocked.\u001b[0m\u001b[36m @ 2024-05-08 11:18:37,204\u001b[0m\n",
      "  9%|▉         | 2881/32191 [2:17:31<19:16:39,  2.37s/it]\u001b[31m\u001b[1mThe `response.parts` quick accessor only works for a single candidate, but none were returned. Check the `response.prompt_feedback` to see if the prompt was blocked.\u001b[0m\u001b[36m @ 2024-05-08 11:19:48,326\u001b[0m\n",
      "  9%|▉         | 2885/32191 [2:17:39<18:16:26,  2.24s/it]\u001b[31m\u001b[1mThe `response.parts` quick accessor only works for a single candidate, but none were returned. Check the `response.prompt_feedback` to see if the prompt was blocked.\u001b[0m\u001b[36m @ 2024-05-08 11:19:55,859\u001b[0m\n",
      "  9%|▉         | 2898/32191 [2:18:11<21:55:43,  2.69s/it]\u001b[31m\u001b[1mThe `response.parts` quick accessor only works for a single candidate, but none were returned. Check the `response.prompt_feedback` to see if the prompt was blocked.\u001b[0m\u001b[36m @ 2024-05-08 11:20:27,253\u001b[0m\n",
      "  9%|▉         | 2899/32191 [2:18:12<16:27:40,  2.02s/it]\u001b[31m\u001b[1mThe `response.parts` quick accessor only works for a single candidate, but none were returned. Check the `response.prompt_feedback` to see if the prompt was blocked.\u001b[0m\u001b[36m @ 2024-05-08 11:20:28,364\u001b[0m\n",
      "  9%|▉         | 3018/32191 [2:23:38<23:52:16,  2.95s/it]\u001b[31m\u001b[1mThe `response.parts` quick accessor only works for a single candidate, but none were returned. Check the `response.prompt_feedback` to see if the prompt was blocked.\u001b[0m\u001b[36m @ 2024-05-08 11:25:54,875\u001b[0m\n",
      "  9%|▉         | 3032/32191 [2:24:16<23:12:55,  2.87s/it]\u001b[31m\u001b[1m504 Deadline Exceeded\u001b[0m\u001b[36m @ 2024-05-08 11:27:32,026\u001b[0m\n",
      " 10%|▉         | 3087/32191 [2:28:03<22:49:06,  2.82s/it] \u001b[31m\u001b[1mThe `response.parts` quick accessor only works for a single candidate, but none were returned. Check the `response.prompt_feedback` to see if the prompt was blocked.\u001b[0m\u001b[36m @ 2024-05-08 11:30:19,376\u001b[0m\n",
      " 10%|▉         | 3189/32191 [2:32:36<22:53:22,  2.84s/it]\u001b[31m\u001b[1mThe `response.parts` quick accessor only works for a single candidate, but none were returned. Check the `response.prompt_feedback` to see if the prompt was blocked.\u001b[0m\u001b[36m @ 2024-05-08 11:34:52,462\u001b[0m\n",
      " 10%|█         | 3260/32191 [2:35:45<22:52:25,  2.85s/it]\u001b[31m\u001b[1mThe `response.parts` quick accessor only works for a single candidate, but none were returned. Check the `response.prompt_feedback` to see if the prompt was blocked.\u001b[0m\u001b[36m @ 2024-05-08 11:38:01,298\u001b[0m\n",
      " 10%|█         | 3276/32191 [2:36:25<21:05:37,  2.63s/it]\u001b[31m\u001b[1mThe `response.parts` quick accessor only works for a single candidate, but none were returned. Check the `response.prompt_feedback` to see if the prompt was blocked.\u001b[0m\u001b[36m @ 2024-05-08 11:38:42,118\u001b[0m\n",
      " 10%|█         | 3301/32191 [2:37:26<19:05:18,  2.38s/it]\u001b[31m\u001b[1mThe `response.parts` quick accessor only works for a single candidate, but none were returned. Check the `response.prompt_feedback` to see if the prompt was blocked.\u001b[0m\u001b[36m @ 2024-05-08 11:39:43,821\u001b[0m\n",
      " 10%|█         | 3319/32191 [2:38:10<19:49:24,  2.47s/it]\u001b[31m\u001b[1mThe `response.parts` quick accessor only works for a single candidate, but none were returned. Check the `response.prompt_feedback` to see if the prompt was blocked.\u001b[0m\u001b[36m @ 2024-05-08 11:40:26,632\u001b[0m\n",
      " 10%|█         | 3376/32191 [2:40:29<17:42:51,  2.21s/it]\u001b[31m\u001b[1m504 Deadline Exceeded\u001b[0m\u001b[36m @ 2024-05-08 11:43:44,866\u001b[0m\n",
      " 11%|█         | 3421/32191 [2:43:49<23:47:44,  2.98s/it] \u001b[31m\u001b[1mThe `response.parts` quick accessor only works for a single candidate, but none were returned. Check the `response.prompt_feedback` to see if the prompt was blocked.\u001b[0m\u001b[36m @ 2024-05-08 11:46:06,396\u001b[0m\n",
      " 11%|█         | 3428/32191 [2:44:05<20:08:43,  2.52s/it]\u001b[31m\u001b[1mThe `response.parts` quick accessor only works for a single candidate, but none were returned. Check the `response.prompt_feedback` to see if the prompt was blocked.\u001b[0m\u001b[36m @ 2024-05-08 11:46:22,584\u001b[0m\n",
      " 11%|█▏        | 3633/32191 [2:52:51<19:19:12,  2.44s/it]\u001b[31m\u001b[1mThe `response.parts` quick accessor only works for a single candidate, but none were returned. Check the `response.prompt_feedback` to see if the prompt was blocked.\u001b[0m\u001b[36m @ 2024-05-08 11:55:07,735\u001b[0m\n",
      " 12%|█▏        | 3724/32191 [2:56:41<20:21:04,  2.57s/it]\u001b[31m\u001b[1m504 Deadline Exceeded\u001b[0m\u001b[36m @ 2024-05-08 11:59:56,790\u001b[0m\n",
      " 12%|█▏        | 3753/32191 [2:59:17<17:36:00,  2.23s/it] \u001b[31m\u001b[1mThe `response.parts` quick accessor only works for a single candidate, but none were returned. Check the `response.prompt_feedback` to see if the prompt was blocked.\u001b[0m\u001b[36m @ 2024-05-08 12:01:34,324\u001b[0m\n",
      " 12%|█▏        | 3810/32191 [3:01:52<25:35:05,  3.25s/it]\u001b[31m\u001b[1mThe `response.parts` quick accessor only works for a single candidate, but none were returned. Check the `response.prompt_feedback` to see if the prompt was blocked.\u001b[0m\u001b[36m @ 2024-05-08 12:04:09,748\u001b[0m\n",
      " 12%|█▏        | 3878/32191 [3:04:50<22:46:06,  2.90s/it]\u001b[31m\u001b[1mThe `response.parts` quick accessor only works for a single candidate, but none were returned. Check the `response.prompt_feedback` to see if the prompt was blocked.\u001b[0m\u001b[36m @ 2024-05-08 12:07:06,507\u001b[0m\n",
      " 12%|█▏        | 3884/32191 [3:05:04<18:56:46,  2.41s/it]\u001b[31m\u001b[1mThe `response.parts` quick accessor only works for a single candidate, but none were returned. Check the `response.prompt_feedback` to see if the prompt was blocked.\u001b[0m\u001b[36m @ 2024-05-08 12:07:20,627\u001b[0m\n",
      " 12%|█▏        | 3964/32191 [3:08:26<19:00:18,  2.42s/it]\u001b[31m\u001b[1mThe `response.parts` quick accessor only works for a single candidate, but none were returned. Check the `response.prompt_feedback` to see if the prompt was blocked.\u001b[0m\u001b[36m @ 2024-05-08 12:10:42,967\u001b[0m\n",
      " 12%|█▏        | 3969/32191 [3:08:38<21:37:32,  2.76s/it]\u001b[31m\u001b[1mThe `response.parts` quick accessor only works for a single candidate, but none were returned. Check the `response.prompt_feedback` to see if the prompt was blocked.\u001b[0m\u001b[36m @ 2024-05-08 12:10:54,389\u001b[0m\n",
      " 12%|█▏        | 4002/32191 [3:10:06<21:56:41,  2.80s/it]\u001b[31m\u001b[1mThe `response.parts` quick accessor only works for a single candidate, but none were returned. Check the `response.prompt_feedback` to see if the prompt was blocked.\u001b[0m\u001b[36m @ 2024-05-08 12:12:22,436\u001b[0m\n",
      " 13%|█▎        | 4061/32191 [3:12:54<21:51:50,  2.80s/it]\u001b[31m\u001b[1m504 Deadline Exceeded\u001b[0m\u001b[36m @ 2024-05-08 12:16:09,789\u001b[0m\n",
      " 13%|█▎        | 4085/32191 [3:15:16<23:27:22,  3.00s/it] \u001b[31m\u001b[1mThe `response.parts` quick accessor only works for a single candidate, but none were returned. Check the `response.prompt_feedback` to see if the prompt was blocked.\u001b[0m\u001b[36m @ 2024-05-08 12:17:34,604\u001b[0m\n",
      " 13%|█▎        | 4132/32191 [3:17:18<21:11:07,  2.72s/it]\u001b[31m\u001b[1mThe `response.parts` quick accessor only works for a single candidate, but none were returned. Check the `response.prompt_feedback` to see if the prompt was blocked.\u001b[0m\u001b[36m @ 2024-05-08 12:19:34,669\u001b[0m\n",
      " 13%|█▎        | 4176/32191 [3:19:17<23:59:46,  3.08s/it]\u001b[31m\u001b[1mThe `response.parts` quick accessor only works for a single candidate, but none were returned. Check the `response.prompt_feedback` to see if the prompt was blocked.\u001b[0m\u001b[36m @ 2024-05-08 12:21:34,049\u001b[0m\n",
      " 14%|█▎        | 4379/32191 [3:29:03<32:03:43,  4.15s/it]\u001b[31m\u001b[1m504 Deadline Exceeded\u001b[0m\u001b[36m @ 2024-05-08 12:32:19,075\u001b[0m\n",
      " 14%|█▎        | 4407/32191 [3:31:28<17:28:25,  2.26s/it] \u001b[31m\u001b[1m504 Deadline Exceeded\u001b[0m\u001b[36m @ 2024-05-08 12:42:40,661\u001b[0m\n",
      " 14%|█▍        | 4523/32191 [3:45:15<20:02:22,  2.61s/it]   \u001b[31m\u001b[1m504 Deadline Exceeded\u001b[0m\u001b[36m @ 2024-05-08 12:48:30,599\u001b[0m\n",
      " 14%|█▍        | 4639/32191 [3:51:23<18:25:11,  2.41s/it] \u001b[31m\u001b[1mThe `response.parts` quick accessor only works for a single candidate, but none were returned. Check the `response.prompt_feedback` to see if the prompt was blocked.\u001b[0m\u001b[36m @ 2024-05-08 12:53:39,011\u001b[0m\n",
      " 15%|█▍        | 4681/32191 [3:53:09<19:25:23,  2.54s/it]\u001b[31m\u001b[1mThe `response.parts` quick accessor only works for a single candidate, but none were returned. Check the `response.prompt_feedback` to see if the prompt was blocked.\u001b[0m\u001b[36m @ 2024-05-08 12:55:25,377\u001b[0m\n",
      " 15%|█▍        | 4687/32191 [3:53:26<22:11:39,  2.90s/it]\u001b[31m\u001b[1mThe `response.parts` quick accessor only works for a single candidate, but none were returned. Check the `response.prompt_feedback` to see if the prompt was blocked.\u001b[0m\u001b[36m @ 2024-05-08 12:55:43,233\u001b[0m\n",
      " 15%|█▍        | 4708/32191 [3:54:17<18:26:59,  2.42s/it]\u001b[31m\u001b[1mThe `response.parts` quick accessor only works for a single candidate, but none were returned. Check the `response.prompt_feedback` to see if the prompt was blocked.\u001b[0m\u001b[36m @ 2024-05-08 12:56:33,946\u001b[0m\n",
      " 15%|█▍        | 4726/32191 [3:55:01<21:12:27,  2.78s/it]\u001b[31m\u001b[1mThe `response.parts` quick accessor only works for a single candidate, but none were returned. Check the `response.prompt_feedback` to see if the prompt was blocked.\u001b[0m\u001b[36m @ 2024-05-08 12:57:17,533\u001b[0m\n",
      " 15%|█▍        | 4827/32191 [3:59:23<17:22:14,  2.29s/it]\u001b[31m\u001b[1mThe `response.parts` quick accessor only works for a single candidate, but none were returned. Check the `response.prompt_feedback` to see if the prompt was blocked.\u001b[0m\u001b[36m @ 2024-05-08 13:01:40,300\u001b[0m\n",
      " 15%|█▌        | 4878/32191 [4:01:29<16:59:13,  2.24s/it]\u001b[31m\u001b[1m504 Deadline Exceeded\u001b[0m\u001b[36m @ 2024-05-08 13:04:44,667\u001b[0m\n",
      " 15%|█▌        | 4941/32191 [4:05:42<20:21:30,  2.69s/it] \u001b[31m\u001b[1m500 An internal error has occurred. Please retry or report in https://developers.generativeai.google/guide/troubleshooting\u001b[0m\u001b[36m @ 2024-05-08 13:07:58,559\u001b[0m\n",
      " 16%|█▌        | 5137/32191 [4:14:06<17:12:38,  2.29s/it]\u001b[31m\u001b[1mThe `response.parts` quick accessor only works for a single candidate, but none were returned. Check the `response.prompt_feedback` to see if the prompt was blocked.\u001b[0m\u001b[36m @ 2024-05-08 13:16:22,273\u001b[0m\n",
      " 16%|█▌        | 5221/32191 [4:17:34<18:41:32,  2.50s/it]\u001b[31m\u001b[1mThe `response.parts` quick accessor only works for a single candidate, but none were returned. Check the `response.prompt_feedback` to see if the prompt was blocked.\u001b[0m\u001b[36m @ 2024-05-08 13:19:52,526\u001b[0m\n",
      " 16%|█▌        | 5223/32191 [4:17:39<19:04:08,  2.55s/it]\u001b[31m\u001b[1m504 Deadline Exceeded\u001b[0m\u001b[36m @ 2024-05-08 13:20:54,916\u001b[0m\n",
      " 16%|█▋        | 5297/32191 [4:22:22<19:05:12,  2.55s/it] "
     ]
    }
   ],
   "source": [
    "BechdelScreenplayLLM.parse_all()"
   ]
  },
  {
   "cell_type": "code",
   "execution_count": null,
   "metadata": {},
   "outputs": [],
   "source": [
    "# BechdelScreenplayLLM.plot_boxplot()"
   ]
  },
  {
   "cell_type": "code",
   "execution_count": null,
   "metadata": {},
   "outputs": [],
   "source": [
    "# BechdelScreenplayLLM.plot_boxplot('female_characters_speak_to_each_other')"
   ]
  },
  {
   "cell_type": "code",
   "execution_count": null,
   "metadata": {},
   "outputs": [],
   "source": [
    "# BechdelScreenplayLLM.plot_genre_biplot()"
   ]
  },
  {
   "cell_type": "code",
   "execution_count": null,
   "metadata": {},
   "outputs": [],
   "source": []
  }
 ],
 "metadata": {
  "kernelspec": {
   "display_name": "venv",
   "language": "python",
   "name": "python3"
  },
  "language_info": {
   "codemirror_mode": {
    "name": "ipython",
    "version": 3
   },
   "file_extension": ".py",
   "mimetype": "text/x-python",
   "name": "python",
   "nbconvert_exporter": "python",
   "pygments_lexer": "ipython3",
   "version": "3.12.1"
  }
 },
 "nbformat": 4,
 "nbformat_minor": 2
}
