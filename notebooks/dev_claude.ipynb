{
 "cells": [
  {
   "cell_type": "code",
   "execution_count": 4,
   "metadata": {},
   "outputs": [],
   "source": [
    "import sys\n",
    "sys.path.insert(0,'..')\n",
    "from llmdh import *\n",
    "sys.path.insert(0,'/Users/ryan/github/prosodic')\n",
    "from prosodic import Word\n",
    "import math\n",
    "import string"
   ]
  },
  {
   "cell_type": "code",
   "execution_count": 11,
   "metadata": {},
   "outputs": [
    {
     "data": {
      "text/plain": [
       "'Here is an unrhyming poem:\\n\\nThe wind whispers,\\nCaressing the leaves,\\nA gentle embrace,\\nAs nature weaves.\\n\\nSunlight dances,\\nCasting shadows on the ground,\\nA symphony of light and shade,\\nSoftly resound.\\n\\nWaves crash upon the shore,\\nEchoing an ancient song,\\nSoothing the soul,\\nCarrying us along.\\n\\nTime flows like a river,\\nEbbing and flowing without cease,\\nA constant movement,\\nTowards tranquil peace.'"
      ]
     },
     "execution_count": 11,
     "metadata": {},
     "output_type": "execute_result"
    }
   ],
   "source": [
    "# LLM.generate_claude('Write an unrhyming poem.')"
   ]
  },
  {
   "cell_type": "code",
   "execution_count": null,
   "metadata": {},
   "outputs": [],
   "source": []
  }
 ],
 "metadata": {
  "kernelspec": {
   "display_name": "venv",
   "language": "python",
   "name": "python3"
  },
  "language_info": {
   "codemirror_mode": {
    "name": "ipython",
    "version": 3
   },
   "file_extension": ".py",
   "mimetype": "text/x-python",
   "name": "python",
   "nbconvert_exporter": "python",
   "pygments_lexer": "ipython3",
   "version": "3.12.1"
  }
 },
 "nbformat": 4,
 "nbformat_minor": 2
}
