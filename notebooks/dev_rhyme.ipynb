{
 "cells": [
  {
   "cell_type": "code",
   "execution_count": 1,
   "metadata": {},
   "outputs": [],
   "source": [
    "import sys\n",
    "sys.path.insert(0,'..')\n",
    "sys.path.insert(0,'/Users/ryan/github/prosodic')\n",
    "from llmdh import *\n",
    "import prosodic\n",
    "prosodic.USE_CACHE=False"
   ]
  },
  {
   "cell_type": "code",
   "execution_count": 2,
   "metadata": {},
   "outputs": [
    {
     "data": {
      "text/plain": [
       "Author                                                      Charles Olson\n",
       "Title                                            As the Dead Prey Upon Us\n",
       "Poetry Foundation ID                                                54311\n",
       "Content                 As the dead prey upon us,\\nthey are the dead i...\n",
       "Name: 838, dtype: object"
      ]
     },
     "execution_count": 2,
     "metadata": {},
     "output_type": "execute_result"
    }
   ],
   "source": [
    "df = pd.read_csv(PATH_KAGGLE).drop('Unnamed: 0',axis=1)\n",
    "df = df.sample(frac=1)\n",
    "df.iloc[0]"
   ]
  },
  {
   "cell_type": "code",
   "execution_count": 3,
   "metadata": {},
   "outputs": [
    {
     "name": "stderr",
     "output_type": "stream",
     "text": [
      "\u001b[34m\u001b[1m⎾ parsing\u001b[0m\u001b[36m @ 2024-03-15 13:49:32,505\u001b[0m\n",
      "\u001b[1;34m￨ iterating: 100%|\u001b[0;36m██████████\u001b[0;36m| 15652/15652 [00:06<00:00, 2536.65it/s]\n",
      "\u001b[34m\u001b[1m⎿ 6.5 seconds\u001b[0m\u001b[36m @ 2024-03-15 13:49:39,036\u001b[0m\n"
     ]
    }
   ],
   "source": [
    "@classmethod\n",
    "def run_kaggle(self):\n",
    "    with SqliteDict(PATH_OUTPUT,autocommit=True) as db, logmap('parsing') as lm, lm.verbosity(1):\n",
    "        for i,row in lm(list(df.iterrows())):\n",
    "            idx = row['Poetry Foundation ID']\n",
    "            # if idx in db: continue\n",
    "            poem_txt = row.Content\n",
    "            # text = prosodic.Text(poem_txt, use_cache=False)\n",
    "            db[idx] = {\n",
    "                **dict(row),\n",
    "                \"num_stanzas\": poem_txt.count('\\n\\n'),\n",
    "                \"num_lines\": poem_txt.count('\\n') - poem_txt.count('\\n\\n'),\n",
    "                # \"num_rhymes\": len(text.get_rhyming_lines()),\n",
    "                # \"is_rhyming\": text.is_rhyming,\n",
    "            }\n",
    "\n",
    "RhymeLLM.run_kaggle = run_kaggle\n",
    "RhymeLLM.run_kaggle()"
   ]
  },
  {
   "cell_type": "code",
   "execution_count": 4,
   "metadata": {},
   "outputs": [
    {
     "name": "stderr",
     "output_type": "stream",
     "text": [
      "\u001b[34m\u001b[1m⎾ building text with 113 words\u001b[0m\u001b[36m @ 2024-03-15 14:22:38,951\u001b[0m\n",
      "\u001b[34m\u001b[1m￨ ⎾ tokenizing\u001b[0m\u001b[36m @ 2024-03-15 14:22:39,172\u001b[0m\n",
      "\u001b[34m\u001b[1m￨ ⎿ 0.1 seconds\u001b[0m\u001b[36m @ 2024-03-15 14:22:39,306\u001b[0m\n",
      "\u001b[34m\u001b[1m￨ ⎾ building stanzas\u001b[0m\u001b[36m @ 2024-03-15 14:22:39,306\u001b[0m\n",
      "\u001b[1;34m￨ ￨ iterating stanzas: 100%|\u001b[0;36m██████████\u001b[0;36m| 4/4 [00:01<00:00,  2.58it/s]\n",
      "\u001b[34m\u001b[1m￨ ⎿ 1.6 seconds\u001b[0m\u001b[36m @ 2024-03-15 14:22:40,867\u001b[0m\n",
      "\u001b[34m\u001b[1m⎿ 1.9 seconds\u001b[0m\u001b[36m @ 2024-03-15 14:22:40,867\u001b[0m\n",
      "\u001b[34m\u001b[1m⎾ saving object to RedisDict under key e85ae717\u001b[0m\u001b[36m @ 2024-03-15 14:22:40,891\u001b[0m\n",
      "\u001b[34m\u001b[1m⎿ 0 seconds\u001b[0m\u001b[36m @ 2024-03-15 14:22:40,921\u001b[0m\n"
     ]
    }
   ],
   "source": [
    "poem = prosodic.Text(\"\"\"\n",
    "Upon the stage of life, we play our parts,\n",
    "As actors in a grand, unfolding tale,\n",
    "Where love and fate entwine in countless arts,\n",
    "And passions rise and wane, beyond the pale.\n",
    "\n",
    "With quill in hand, we scribe our destiny,\n",
    "In ink of tears and laughter's golden hue,\n",
    "Each line a verse of sweet serenity,\n",
    "Or tragic note that rends the heart in two.\n",
    "\n",
    "Yet in this fleeting dance of joy and sorrow,\n",
    "We find the beauty in the passing hour,\n",
    "For every dawn brings forth a new tomorrow,\n",
    "And every storm gives way to gentle shower.\n",
    "\n",
    "So let us revel in this mortal fray,\n",
    "And seize the moments ere they slip away.\n",
    "\"\"\")"
   ]
  },
  {
   "cell_type": "code",
   "execution_count": 5,
   "metadata": {},
   "outputs": [],
   "source": [
    "line=poem.lines[0]"
   ]
  },
  {
   "cell_type": "code",
   "execution_count": 6,
   "metadata": {},
   "outputs": [
    {
     "name": "stderr",
     "output_type": "stream",
     "text": [
      "\u001b[34m\u001b[1m⎾ parsing text Line(num=1, txt='Upon the stage of life, we play our parts,')\u001b[0m\u001b[36m @ 2024-03-15 14:23:54,596\u001b[0m\n",
      "\u001b[34m\u001b[1m￨ ⎾ saving object to RedisDict under key 6de42f95\u001b[0m\u001b[36m @ 2024-03-15 14:23:54,810\u001b[0m\n",
      "\u001b[34m\u001b[1m￨ ⎿ 0 seconds\u001b[0m\u001b[36m @ 2024-03-15 14:23:54,837\u001b[0m\n",
      "\u001b[34m\u001b[1m⎿ 0.2 seconds\u001b[0m\u001b[36m @ 2024-03-15 14:23:54,838\u001b[0m\n"
     ]
    }
   ],
   "source": [
    "parse=line.best_parse"
   ]
  },
  {
   "cell_type": "code",
   "execution_count": 28,
   "metadata": {},
   "outputs": [],
   "source": [
    "def get_foot_type_results(txt):\n",
    "    with logmap(announce=False) as lm, lm.verbosity(0):\n",
    "        poem=prosodic.Text(txt)\n",
    "        perc1=np.mean([\n",
    "            int(line.best_parse.slots[3].meter_val=='s')\n",
    "            for line in poem.lines\n",
    "            if len(line.best_parse.slots)>=4\n",
    "        ])\n",
    "        perc2=np.mean([\n",
    "            int(pos.meter_str=='ww')\n",
    "            for line in poem.lines\n",
    "            for pos in line.best_parse.positions\n",
    "            if len(line.best_parse.slots)>=4\n",
    "        ])\n",
    "        return {\n",
    "            'meter_perc_lines_fourthpos_s':perc1,\n",
    "            'meter_mpos_ww':perc2    \n",
    "        }\n"
   ]
  },
  {
   "cell_type": "code",
   "execution_count": 29,
   "metadata": {},
   "outputs": [
    {
     "data": {
      "text/plain": [
       "{'meter_perc_lines_fourthpos_s': 1.0, 'meter_mpos_ww': 0.0}"
      ]
     },
     "execution_count": 29,
     "metadata": {},
     "output_type": "execute_result"
    }
   ],
   "source": [
    "get_foot_type_results(\n",
    "\"\"\"Upon the stage of life, we play our parts,\n",
    "As actors in a grand, unfolding tale,\n",
    "Where love and fate entwine in countless arts,\n",
    "And passions rise and wane, beyond the pale.\n",
    "\n",
    "With quill in hand, we scribe our destiny,\n",
    "In ink of tears and laughter's golden hue,\n",
    "Each line a verse of sweet serenity,\n",
    "Or tragic note that rends the heart in two.\n",
    "\n",
    "Yet in this fleeting dance of joy and sorrow,\n",
    "We find the beauty in the passing hour,\n",
    "For every dawn brings forth a new tomorrow,\n",
    "And every storm gives way to gentle shower.\n",
    "\n",
    "So let us revel in this mortal fray,\n",
    "And seize the moments ere they slip away.\n",
    "\"\"\")"
   ]
  },
  {
   "cell_type": "code",
   "execution_count": 11,
   "metadata": {},
   "outputs": [],
   "source": [
    "slot=parse.slots[3]"
   ]
  },
  {
   "cell_type": "code",
   "execution_count": 12,
   "metadata": {},
   "outputs": [
    {
     "data": {
      "text/plain": [
       "'s'"
      ]
     },
     "execution_count": 12,
     "metadata": {},
     "output_type": "execute_result"
    }
   ],
   "source": [
    "slot.meter_val"
   ]
  },
  {
   "cell_type": "code",
   "execution_count": null,
   "metadata": {},
   "outputs": [],
   "source": []
  }
 ],
 "metadata": {
  "kernelspec": {
   "display_name": "venv",
   "language": "python",
   "name": "python3"
  },
  "language_info": {
   "codemirror_mode": {
    "name": "ipython",
    "version": 3
   },
   "file_extension": ".py",
   "mimetype": "text/x-python",
   "name": "python",
   "nbconvert_exporter": "python",
   "pygments_lexer": "ipython3",
   "version": "3.12.1"
  }
 },
 "nbformat": 4,
 "nbformat_minor": 2
}
