{
 "cells": [
  {
   "cell_type": "code",
   "execution_count": 6,
   "metadata": {},
   "outputs": [],
   "source": [
    "import sys\n",
    "sys.path.insert(0,'..')\n",
    "sys.path.insert(0,'/Users/ryan/github/prosodic')\n",
    "from llmdh import *\n",
    "import prosodic\n",
    "prosodic.USE_CACHE=False"
   ]
  },
  {
   "cell_type": "code",
   "execution_count": 32,
   "metadata": {},
   "outputs": [],
   "source": [
    "class ProsodyLLM(LLM):\n",
    "    # system_prompt=\"You are a poet and an expert on poetic forms such as rhyme and meter. Please generate a poem according to the formal rules specified by the user.\"\n",
    "    # system_prompt=\"You are an expert on rhyme and meter. Please generate a text according to the formal rules specified by the user.\"\n",
    "    system_prompt=\"You are an expert on rhyme and meter. Please generate a text according to the formal rules specified by the user.\""
   ]
  },
  {
   "cell_type": "code",
   "execution_count": 33,
   "metadata": {},
   "outputs": [],
   "source": [
    "class RhymeLLM(ProsodyLLM):\n",
    "    # user_prompt=\"Please write a poem that does NOT rhyme.\"\n",
    "    # user_prompt=\"Please write an UNRHYMED poem, i.e. a poem that does NOT rhyme. Ensure that all lines do NOT rhyme.\"\n",
    "    user_prompt=\"Please write an UNRHYMED text, i.e. a multi-lined text whose lines do NOT rhyme. Ensure that all lines do NOT rhyme.\"\n",
    "    \n",
    "    @cached_property\n",
    "    def parsed_response(self):\n",
    "        poem_txt=self.response\n",
    "        text = prosodic.Text(poem_txt)\n",
    "        return {\n",
    "            'poem':poem_txt,\n",
    "            'num_stanzas':len(text.stanzas),\n",
    "            'num_lines':len(text.lines),\n",
    "            'num_rhymes':len(text.get_rhyming_lines()),\n",
    "            'is_rhyming':text.is_rhyming\n",
    "        }\n",
    "\n",
    "    @classmethod\n",
    "    def run(cls, model=LLM_DEFAULT_MODEL, verbose=False, force=False, **kwargs):\n",
    "        while True:\n",
    "            llm = cls(model=model, verbose=verbose, force=force, **kwargs)\n",
    "            pprint(llm.result)"
   ]
  },
  {
   "cell_type": "code",
   "execution_count": 34,
   "metadata": {},
   "outputs": [
    {
     "name": "stderr",
     "output_type": "stream",
     "text": [
      "\u001b[34m\u001b[1m⎾ prompting LLM model llama2-uncensored:7b\u001b[0m\u001b[36m @ 2024-03-14 03:20:16,735\u001b[0m\n",
      "\u001b[34m\u001b[1m￨ PROMPT: [{'role': 'system', 'content': 'You are an expert on rhyme and meter. Please generate a text according to the formal rules specified by the user.'}, {'role': 'user', 'content': 'Please write an UNRHYMED text, i.e. a multi-lined text whose lines do NOT rhyme. Ensure that all lines do NOT rhyme.'}]\u001b[0m\u001b[36m @ 2024-03-14 03:20:16,736\u001b[0m\n",
      "\u001b[33m\u001b[1m￨ RESPONSE: The sky is clear and blue,\n",
      "The clouds are puffy and new,\n",
      "The birds are singing in flight,\n",
      "And the sun is shining bright.\n",
      "This day is perfect for sightseeing,\n",
      "To explore the countryside,\n",
      "With a bicycle or a kayak,\n",
      "Or just a leisurely stroll down the avenue.\u001b[0m\u001b[36m @ 2024-03-14 03:20:19,511\u001b[0m\n",
      "\u001b[34m\u001b[1m⎿ 2.8 seconds\u001b[0m\u001b[36m @ 2024-03-14 03:20:19,512\u001b[0m\n",
      "\u001b[34m\u001b[1m⎾ building text with 48 words\u001b[0m\u001b[36m @ 2024-03-14 03:20:19,513\u001b[0m\n",
      "\u001b[34m\u001b[1m￨ ⎾ tokenizing\u001b[0m\u001b[36m @ 2024-03-14 03:20:19,639\u001b[0m\n",
      "\u001b[34m\u001b[1m￨ ⎿ 0 seconds\u001b[0m\u001b[36m @ 2024-03-14 03:20:19,644\u001b[0m\n",
      "\u001b[34m\u001b[1m￨ ⎾ building stanzas\u001b[0m\u001b[36m @ 2024-03-14 03:20:19,645\u001b[0m\n",
      "\u001b[1;34m￨ ￨ iterating stanzas: 100%|\u001b[0;36m██████████\u001b[0;36m| 1/1 [00:00<00:00, 58.26it/s]\n",
      "\u001b[34m\u001b[1m￨ ⎿ 0 seconds\u001b[0m\u001b[36m @ 2024-03-14 03:20:19,670\u001b[0m\n",
      "\u001b[34m\u001b[1m⎿ 0.2 seconds\u001b[0m\u001b[36m @ 2024-03-14 03:20:19,670\u001b[0m\n",
      "\u001b[34m\u001b[1m⎾ saving object to RedisDict under key bcc96f7f\u001b[0m\u001b[36m @ 2024-03-14 03:20:19,692\u001b[0m\n",
      "\u001b[34m\u001b[1m⎿ 0 seconds\u001b[0m\u001b[36m @ 2024-03-14 03:20:19,721\u001b[0m\n"
     ]
    },
    {
     "name": "stdout",
     "output_type": "stream",
     "text": [
      "{'is_rhyming': True,\n",
      " 'num_lines': 8,\n",
      " 'num_rhymes': 4,\n",
      " 'num_stanzas': 1,\n",
      " 'poem': 'The sky is clear and blue,\\n'\n",
      "         'The clouds are puffy and new,\\n'\n",
      "         'The birds are singing in flight,\\n'\n",
      "         'And the sun is shining bright.\\n'\n",
      "         'This day is perfect for sightseeing,\\n'\n",
      "         'To explore the countryside,\\n'\n",
      "         'With a bicycle or a kayak,\\n'\n",
      "         'Or just a leisurely stroll down the avenue.'}\n"
     ]
    }
   ],
   "source": [
    "x=RhymeLLM(verbose=True,force=True,model=LLM_DEFAULT_MODEL_LOCAL).result\n",
    "pprint(x)"
   ]
  },
  {
   "cell_type": "code",
   "execution_count": null,
   "metadata": {},
   "outputs": [],
   "source": []
  }
 ],
 "metadata": {
  "kernelspec": {
   "display_name": "venv",
   "language": "python",
   "name": "python3"
  },
  "language_info": {
   "codemirror_mode": {
    "name": "ipython",
    "version": 3
   },
   "file_extension": ".py",
   "mimetype": "text/x-python",
   "name": "python",
   "nbconvert_exporter": "python",
   "pygments_lexer": "ipython3",
   "version": "3.12.1"
  }
 },
 "nbformat": 4,
 "nbformat_minor": 2
}
