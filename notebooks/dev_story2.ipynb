{
 "cells": [
  {
   "cell_type": "code",
   "execution_count": 48,
   "metadata": {},
   "outputs": [],
   "source": [
    "import sys\n",
    "sys.path.insert(0,'..')\n",
    "sys.path.insert(0,'/Users/ryan/github/prosodic')\n",
    "sys.path.insert(0,'/Users/ryan/github/lltk')\n",
    "from llmdh import *\n",
    "from sqlitedict import SqliteDict\n",
    "import os"
   ]
  },
  {
   "cell_type": "code",
   "execution_count": 49,
   "metadata": {},
   "outputs": [
    {
     "data": {
      "text/plain": [
       "659"
      ]
     },
     "execution_count": 49,
     "metadata": {},
     "output_type": "execute_result"
    }
   ],
   "source": [
    "corproot='/Users/ryan/github/bechdeltest/data/corpus'\n",
    "dfmeta = pd.read_csv(corproot+'/metadata.csv')\n",
    "dfmeta['release_date']=pd.to_numeric(dfmeta['release_date'], errors='coerce')\n",
    "dfmeta['dec']=dfmeta['release_date']//10*10\n",
    "n=100\n",
    "ids=pd.concat(gdf if len(gdf)<=n else gdf.sample(n) for g,gdf in dfmeta.query('1940<=release_date').groupby('dec')).id.sample(frac=1)\n",
    "# ids = dfmeta.query('1940<=release_date').id.sample(frac=1)\n",
    "len(ids)"
   ]
  },
  {
   "cell_type": "code",
   "execution_count": 50,
   "metadata": {},
   "outputs": [],
   "source": [
    "def tostr(x):\n",
    "    try:\n",
    "        return str(int(x))\n",
    "    except:\n",
    "        return x\n",
    "dfgenre=pd.read_pickle('data.bechdel.dfall.pkl')\n",
    "dfgenre['imdb_id']=dfgenre.imdb_id.apply(tostr)\n",
    "imdb2id = dict(zip(dfgenre.index, dfgenre.imdb_id))\n",
    "# len(imdb2id)"
   ]
  },
  {
   "cell_type": "code",
   "execution_count": 51,
   "metadata": {},
   "outputs": [
    {
     "data": {
      "text/plain": [
       "398"
      ]
     },
     "execution_count": 51,
     "metadata": {},
     "output_type": "execute_result"
    }
   ],
   "source": [
    "# dbgenre=SqliteDict('data.imdb_genre.db', flag='r')\n",
    "ids=[x for x in ids if x not in imdb2id]\n",
    "len(ids)"
   ]
  },
  {
   "cell_type": "code",
   "execution_count": 52,
   "metadata": {},
   "outputs": [],
   "source": [
    "\n",
    "\n",
    "# df.sort_values('tmdb_release_date',ascending=False).head(10)\n",
    "def iter_scenes(id):\n",
    "    fn=os.path.join(corproot,'texts',id,f'{id}.dialogue.csv')\n",
    "    if os.path.exists(fn):\n",
    "        df=pd.read_csv(fn).fillna('')\n",
    "\n",
    "        o=[]\n",
    "        for g,gdf in df.groupby('scene_num'):\n",
    "            scene=[]\n",
    "            for i,row in gdf.iterrows():\n",
    "                if not scene and row.scene_desc: scene.append(f'\\t\\t[{row.scene_desc}]')\n",
    "                if row.narration:\n",
    "                    scene.append(f'\\t\\t({row.narration})')\n",
    "                line=row.speaker\n",
    "                if row.direction: line+=f' ({row.direction})'\n",
    "                line+=f': {row.speech}'\n",
    "                scene.append(line)\n",
    "            yield g,('\\n\\n'.join(scene))\n",
    "\n",
    "    # story=next(iter_scenes('10-Things-I-Hate-About-You'))"
   ]
  },
  {
   "cell_type": "code",
   "execution_count": 53,
   "metadata": {},
   "outputs": [],
   "source": [
    "system_prompt='''You are a literary critic assessing whether scenes from a screenplay pass the \"Bechdel test\", which involves 3 components: \n",
    "1. Does the scene contain more than 1 female character?\n",
    "2. If (1) is true, do at least two female characters speak to one another?\n",
    "3. If (2) is true, do they speak about something other than a man?\n",
    "\n",
    "Read the following story and return valid JSON dictionary containing this information.\n",
    "'''\n",
    "\n",
    "example_prompts=[\n",
    "    (\n",
    "'''\n",
    "        [INT. HOUSE]\n",
    "\n",
    "EMILY: I don't know, Emma, what do you think?\n",
    "\n",
    "EMMA: I don't know either! Michael seems too risky to date to me.\n",
    "\n",
    "EMILY: But how do you know?\n",
    "\n",
    "EMMA: Well, I—\n",
    "\n",
    "        (Just then MICHAEL enters through the back door.)\n",
    "\n",
    "MICHAEL: What are you guys talking about?\n",
    "\n",
    "        (EMILY and EMMA blush.)\n",
    "\n",
    "EMMA: Nothing!\n",
    "\n",
    "EMILY: Well, almost nothing.\n",
    "''',\n",
    "'''\n",
    "{\n",
    "    \"female_characters\": [\"Emily\", \"Emma\"],\n",
    "    \"male_characters\": [\"Michael\"],\n",
    "    \"female_characters_speak_to_each_other\": true,\n",
    "    \"female_characters_speak_about_something_other_than_a_man\": false,\n",
    "    \"explanation\": \"Emily and Emma, both women, speak to each other, but their conversation is limited that regarding the reputation of Michael, a man.\"\n",
    "}\n",
    "'''\n",
    "    )\n",
    "]\n"
   ]
  },
  {
   "cell_type": "code",
   "execution_count": 54,
   "metadata": {},
   "outputs": [],
   "source": [
    "dbfn=os.path.join(PATH_DATA,'data.bechdel.db')\n",
    "db = SqliteDict(dbfn, autocommit=True)"
   ]
  },
  {
   "cell_type": "code",
   "execution_count": 64,
   "metadata": {},
   "outputs": [],
   "source": [
    "k=next(db.keys())\n",
    "k\n",
    "for g,scene in iter_scenes(k):\n",
    "    if g==15:\n",
    "        break"
   ]
  },
  {
   "cell_type": "code",
   "execution_count": 66,
   "metadata": {},
   "outputs": [
    {
     "name": "stdout",
     "output_type": "stream",
     "text": [
      "\t\t[INT. KENNY'S THAI FOOD DINER - DAY]\n",
      "\n",
      "\t\t(Kat and Mandella pick apart their pad thai. Mandella is smoking.)\n",
      "\n",
      "KAT: So he has this huge raging fit about Sarah Lawrence and insists that I go to his male-dominated, puking frat boy, number one golf team school. I have no say at all.\n",
      "\n",
      "MANDELLA: William would never have gone to a state school.\n",
      "\n",
      "KAT: William didn't even go to high school\n",
      "\n",
      "MANDELLA: That's never been proven\n",
      "\n",
      "KAT: Neither has his heterosexuality.\n",
      "\n",
      "\t\t(Mandella replies with a look of ice. Kat uses the moment to stub out Mandella's cigarette.)\n",
      "\n",
      "KAT: I appreciate your efforts toward a speedy death, but I'm consuming. Do you mind?\n",
      "\n",
      "MANDELLA (continuing pointing at her food): Does it matter?\n",
      "\n",
      "KAT: If I was Bianca, it would be, \"Any school you want, precious. Don't forget your tiara.\"\n",
      "\n",
      "\t\t(They both look up as Patrick enters. He walks up to the counter to place his order. Mandella leans toward Kat with the glow of fresh gossip)\n",
      "\n",
      "MANDELLA: Janice Parker told me he was a roadie for Marilyn Manson.\n",
      "\n",
      "\t\t(Patrick nods at them as he takes his food outside.)\n",
      "\n",
      "KAT: Janice Parker is an idiot\n"
     ]
    }
   ],
   "source": [
    "print(scene)"
   ]
  },
  {
   "cell_type": "markdown",
   "metadata": {},
   "source": []
  },
  {
   "cell_type": "code",
   "execution_count": 56,
   "metadata": {},
   "outputs": [],
   "source": [
    "id='10-Things-I-Hate-About-You'\n",
    "\n",
    "def parse_script(id,model='gemini-pro', force=False, progress=True):\n",
    "    if not force and id in db and type(db[id])==pd.DataFrame: return db[id]\n",
    "\n",
    "    o=[]\n",
    "    for scene_num,scene in tqdm(list(iter_scenes(id)),position=0, disable=not progress):\n",
    "        res=LLM.generate(\n",
    "            scene,\n",
    "            system_prompt=system_prompt,\n",
    "            example_prompts=example_prompts,\n",
    "            model=model,\n",
    "            verbose=False\n",
    "        )\n",
    "        try:\n",
    "            resd=json.loads('{' + res.split('{',1)[-1].split('}')[0] + '}')\n",
    "            resd['scene_num']=scene_num\n",
    "            o.append(resd)\n",
    "        except Exception as e:\n",
    "            # print('!!',e)\n",
    "            pass\n",
    "        # break\n",
    "    try:\n",
    "        df=pd.DataFrame(o).fillna('')\n",
    "        df['num_female_characters']=df['female_characters'].apply(lambda x: len(x) if x else 0)\n",
    "        df['num_male_characters']=df['male_characters'].apply(lambda x: len(x) if x else 0)\n",
    "        for k in ['female_characters_speak_to_each_other', 'female_characters_speak_about_something_other_than_a_man']:\n",
    "            df[k]=df[k].apply(lambda x: x==True)\n",
    "    except Exception as e:\n",
    "        # print('!!!!',e)\n",
    "        pass\n",
    "        df = pd.DataFrame()\n",
    "        \n",
    "    db[id] = df\n",
    "    return df"
   ]
  },
  {
   "cell_type": "code",
   "execution_count": null,
   "metadata": {},
   "outputs": [],
   "source": []
  },
  {
   "cell_type": "code",
   "execution_count": 57,
   "metadata": {},
   "outputs": [],
   "source": [
    "# pd.options.display.max_rows=100\n",
    "# keys=list(db.keys())\n",
    "# sumdf=pd.DataFrame([db[k].mean(numeric_only=True) for k in keys], index=keys).rename_axis('id').dropna()\n",
    "# sumdf.sort_values('female_characters_speak_about_something_other_than_a_man')\n",
    "# # sumdf.sort_values('female_characters_speak_to_each_other')"
   ]
  },
  {
   "cell_type": "code",
   "execution_count": 58,
   "metadata": {},
   "outputs": [],
   "source": [
    "def parse_all_scripts(ids, model='gemini-pro'):\n",
    "    for id in tqdm(ids,position=0):\n",
    "        parse_script(id,progress=True, model=model)\n",
    "\n"
   ]
  },
  {
   "cell_type": "code",
   "execution_count": 59,
   "metadata": {},
   "outputs": [
    {
     "name": "stderr",
     "output_type": "stream",
     "text": [
      "100%|██████████| 72/72 [03:16<00:00,  2.73s/it]\n",
      " 29%|██▊       | 10/35 [00:44<02:12,  5.28s/it]/it]\u001b[31m\u001b[1mThe `response.parts` quick accessor only works for a single candidate, but none were returned. Check the `response.prompt_feedback` to see if the prompt was blocked.\u001b[0m\u001b[36m @ 2024-04-21 10:45:38,618\u001b[0m\n",
      "100%|██████████| 35/35 [02:20<00:00,  4.00s/it]\n",
      "100%|██████████| 21/21 [01:26<00:00,  4.11s/it]/it]\n",
      " 12%|█▏        | 23/199 [01:00<08:03,  2.75s/it]it]\u001b[31m\u001b[1mThe `response.parts` quick accessor only works for a single candidate, but none were returned. Check the `response.prompt_feedback` to see if the prompt was blocked.\u001b[0m\u001b[36m @ 2024-04-21 10:49:37,814\u001b[0m\n",
      " 35%|███▍      | 69/199 [02:52<05:32,  2.56s/it]\u001b[31m\u001b[1mThe `response.parts` quick accessor only works for a single candidate, but none were returned. Check the `response.prompt_feedback` to see if the prompt was blocked.\u001b[0m\u001b[36m @ 2024-04-21 10:51:31,673\u001b[0m\n",
      " 36%|███▌      | 72/199 [02:59<05:10,  2.44s/it]\u001b[31m\u001b[1m504 Deadline Exceeded\u001b[0m\u001b[36m @ 2024-04-21 10:52:36,809\u001b[0m\n",
      " 38%|███▊      | 76/199 [04:25<23:18, 11.37s/it]\u001b[31m\u001b[1mThe `response.parts` quick accessor only works for a single candidate, but none were returned. Check the `response.prompt_feedback` to see if the prompt was blocked.\u001b[0m\u001b[36m @ 2024-04-21 10:53:03,646\u001b[0m\n",
      " 90%|████████▉ | 179/199 [09:00<00:51,  2.56s/it]\u001b[31m\u001b[1mThe `response.parts` quick accessor only works for a single candidate, but none were returned. Check the `response.prompt_feedback` to see if the prompt was blocked.\u001b[0m\u001b[36m @ 2024-04-21 10:57:37,978\u001b[0m\n",
      "100%|██████████| 199/199 [09:48<00:00,  2.96s/it]\n",
      " 43%|████▎     | 36/84 [01:42<02:17,  2.86s/it]/it]\u001b[31m\u001b[1mThe `response.parts` quick accessor only works for a single candidate, but none were returned. Check the `response.prompt_feedback` to see if the prompt was blocked.\u001b[0m\u001b[36m @ 2024-04-21 11:00:08,638\u001b[0m\n",
      " 56%|█████▌    | 47/84 [02:12<01:46,  2.89s/it]\u001b[31m\u001b[1mThe `response.parts` quick accessor only works for a single candidate, but none were returned. Check the `response.prompt_feedback` to see if the prompt was blocked.\u001b[0m\u001b[36m @ 2024-04-21 11:00:41,464\u001b[0m\n",
      " 63%|██████▎   | 53/84 [02:31<01:33,  3.03s/it]\u001b[31m\u001b[1mThe `response.parts` quick accessor only works for a single candidate, but none were returned. Check the `response.prompt_feedback` to see if the prompt was blocked.\u001b[0m\u001b[36m @ 2024-04-21 11:00:57,616\u001b[0m\n",
      "100%|██████████| 84/84 [03:53<00:00,  2.78s/it]\n",
      "100%|██████████| 81/81 [04:15<00:00,  3.16s/it]/it]\n",
      " 32%|███▏      | 25/77 [01:09<02:37,  3.03s/it]/it]\u001b[31m\u001b[1m504 Deadline Exceeded\u001b[0m\u001b[36m @ 2024-04-21 11:08:44,732\u001b[0m\n",
      "100%|██████████| 77/77 [04:42<00:00,  3.67s/it]\n",
      "100%|██████████| 40/40 [02:14<00:00,  3.36s/it]/it]\n",
      " 21%|██▏       | 6/28 [00:16<00:56,  2.56s/it]s/it]\u001b[31m\u001b[1mThe `response.parts` quick accessor only works for a single candidate, but none were returned. Check the `response.prompt_feedback` to see if the prompt was blocked.\u001b[0m\u001b[36m @ 2024-04-21 11:13:50,261\u001b[0m\n",
      " 46%|████▋     | 13/28 [00:39<00:58,  3.89s/it]\u001b[31m\u001b[1mThe `response.parts` quick accessor only works for a single candidate, but none were returned. Check the `response.prompt_feedback` to see if the prompt was blocked.\u001b[0m\u001b[36m @ 2024-04-21 11:14:12,797\u001b[0m\n",
      "100%|██████████| 28/28 [01:24<00:00,  3.02s/it]\n",
      "0it [00:00, ?it/s]0/398 [33:22<16:23:00, 152.01s/it]\n",
      "100%|██████████| 75/75 [03:10<00:00,  2.54s/it]\n",
      " 25%|██▌       | 16/64 [00:38<01:57,  2.44s/it]s/it]\u001b[31m\u001b[1mThe `response.parts` quick accessor only works for a single candidate, but none were returned. Check the `response.prompt_feedback` to see if the prompt was blocked.\u001b[0m\u001b[36m @ 2024-04-21 11:18:47,325\u001b[0m\n",
      "100%|██████████| 64/64 [02:46<00:00,  2.61s/it]\n",
      " 82%|████████▏ | 68/83 [03:04<01:02,  4.17s/it]s/it]\u001b[31m\u001b[1m504 Deadline Exceeded\u001b[0m\u001b[36m @ 2024-04-21 11:24:58,768\u001b[0m\n",
      "100%|██████████| 83/83 [04:50<00:00,  3.50s/it]\n",
      "100%|██████████| 30/30 [01:34<00:00,  3.16s/it]s/it]\n",
      "100%|██████████| 22/22 [01:34<00:00,  4.30s/it]s/it]\n",
      " 48%|████▊     | 38/80 [01:57<01:51,  2.66s/it]it]  \u001b[31m\u001b[1mThe `response.parts` quick accessor only works for a single candidate, but none were returned. Check the `response.prompt_feedback` to see if the prompt was blocked.\u001b[0m\u001b[36m @ 2024-04-21 11:30:52,635\u001b[0m\n",
      "100%|██████████| 80/80 [03:58<00:00,  2.98s/it]\n",
      "100%|██████████| 17/17 [01:06<00:00,  3.93s/it]it]\n",
      "100%|██████████| 16/16 [01:23<00:00,  5.25s/it]it]\n",
      "100%|██████████| 78/78 [03:39<00:00,  2.81s/it]it]\n",
      "0it [00:00, ?it/s]5/398 [57:28<9:51:29, 95.15s/it]\n",
      " 18%|█▊        | 20/111 [00:57<04:16,  2.82s/it]\u001b[31m\u001b[1m504 Deadline Exceeded\u001b[0m\u001b[36m @ 2024-04-21 11:40:59,569\u001b[0m\n",
      " 83%|████████▎ | 92/111 [05:17<00:44,  2.33s/it]\u001b[31m\u001b[1mThe `response.parts` quick accessor only works for a single candidate, but none were returned. Check the `response.prompt_feedback` to see if the prompt was blocked.\u001b[0m\u001b[36m @ 2024-04-21 11:44:22,730\u001b[0m\n",
      "100%|██████████| 111/111 [06:06<00:00,  3.30s/it]\n",
      "  9%|▉         | 5/57 [00:17<02:56,  3.39s/it].56s/it]\u001b[31m\u001b[1mThe `response.parts` quick accessor only works for a single candidate, but none were returned. Check the `response.prompt_feedback` to see if the prompt was blocked.\u001b[0m\u001b[36m @ 2024-04-21 11:45:27,830\u001b[0m\n",
      "100%|██████████| 57/57 [02:48<00:00,  2.96s/it]\n",
      "100%|██████████| 145/145 [06:00<00:00,  2.49s/it]s/it]\n",
      " 33%|███▎      | 51/155 [02:12<04:32,  2.62s/it]3s/it]\u001b[31m\u001b[1m504 Deadline Exceeded\u001b[0m\u001b[36m @ 2024-04-21 11:57:10,641\u001b[0m\n",
      "100%|██████████| 155/155 [07:57<00:00,  3.08s/it]\n",
      "100%|██████████| 50/50 [02:31<00:00,  3.03s/it]73s/it]\n",
      "100%|██████████| 50/50 [02:34<00:00,  3.09s/it]92s/it]\n",
      "100%|██████████| 32/32 [01:41<00:00,  3.19s/it]54s/it]\n",
      " 52%|█████▏    | 11/21 [00:43<00:38,  3.82s/it]04s/it]\u001b[31m\u001b[1mThe `response.parts` quick accessor only works for a single candidate, but none were returned. Check the `response.prompt_feedback` to see if the prompt was blocked.\u001b[0m\u001b[36m @ 2024-04-21 12:09:31,310\u001b[0m\n",
      "100%|██████████| 21/21 [01:17<00:00,  3.70s/it]\n",
      " 67%|██████▋   | 51/76 [02:18<01:06,  2.66s/it]82s/it]\u001b[31m\u001b[1m504 Deadline Exceeded\u001b[0m\u001b[36m @ 2024-04-21 12:13:20,751\u001b[0m\n",
      "100%|██████████| 76/76 [05:06<00:00,  4.04s/it]\n",
      "100%|██████████| 18/18 [01:01<00:00,  3.44s/it]56s/it]\n",
      "100%|██████████| 94/94 [04:04<00:00,  2.60s/it]08s/it]\n",
      "100%|██████████| 90/90 [03:51<00:00,  2.57s/it]38s/it]\n",
      "  1%|          | 1/98 [00:04<06:53,  4.26s/it].98s/it]\u001b[31m\u001b[1mThe `response.parts` quick accessor only works for a single candidate, but none were returned. Check the `response.prompt_feedback` to see if the prompt was blocked.\u001b[0m\u001b[36m @ 2024-04-21 12:24:11,887\u001b[0m\n",
      " 23%|██▎       | 23/98 [01:03<05:14,  4.19s/it]\u001b[31m\u001b[1mThe `response.parts` quick accessor only works for a single candidate, but none were returned. Check the `response.prompt_feedback` to see if the prompt was blocked.\u001b[0m\u001b[36m @ 2024-04-21 12:25:11,955\u001b[0m\n",
      "100%|██████████| 98/98 [04:14<00:00,  2.60s/it]\n",
      "  5%|▍         | 6/129 [00:12<03:58,  1.94s/it]08s/it]\u001b[31m\u001b[1mTimeout of 60.0s exceeded, last exception: 503 failed to connect to all addresses; last error: UNAVAILABLE: ipv4:142.250.31.95:443: Failed to connect to remote host: FD shutdown\u001b[0m\u001b[36m @ 2024-04-21 12:29:32,622\u001b[0m\n",
      "100%|██████████| 129/129 [06:32<00:00,  3.04s/it]\n",
      "100%|██████████| 114/114 [04:51<00:00,  2.56s/it]s/it]\n",
      " 15%|█▌        | 4/26 [00:13<01:11,  3.27s/it].46s/it]\u001b[31m\u001b[1mThe `response.parts` quick accessor only works for a single candidate, but none were returned. Check the `response.prompt_feedback` to see if the prompt was blocked.\u001b[0m\u001b[36m @ 2024-04-21 12:40:00,336\u001b[0m\n",
      "100%|██████████| 26/26 [01:19<00:00,  3.07s/it]\n",
      "  0%|          | 0/153 [00:00<?, ?it/s]32, 161.12s/it]\u001b[31m\u001b[1mThe `response.parts` quick accessor only works for a single candidate, but none were returned. Check the `response.prompt_feedback` to see if the prompt was blocked.\u001b[0m\u001b[36m @ 2024-04-21 12:41:06,087\u001b[0m\n",
      " 54%|█████▎    | 82/153 [03:38<03:05,  2.62s/it]\u001b[31m\u001b[1m504 Deadline Exceeded\u001b[0m\u001b[36m @ 2024-04-21 12:45:44,175\u001b[0m\n",
      "100%|██████████| 153/153 [07:55<00:00,  3.11s/it]\n",
      "100%|██████████| 11/11 [00:27<00:00,  2.51s/it]97s/it]\n",
      "100%|██████████| 3/3 [00:06<00:00,  2.22s/it]1.16s/it]\n",
      "100%|██████████| 92/92 [03:42<00:00,  2.41s/it]s/it]  \n",
      "100%|██████████| 153/153 [06:13<00:00,  2.44s/it]s/it]\n",
      " 33%|███▎      | 34/102 [01:26<02:24,  2.13s/it]5s/it]\u001b[31m\u001b[1m504 Deadline Exceeded\u001b[0m\u001b[36m @ 2024-04-21 13:01:57,159\u001b[0m\n",
      "100%|██████████| 102/102 [05:45<00:00,  3.39s/it]\n",
      "100%|██████████| 172/172 [07:20<00:00,  2.56s/it]s/it]\n",
      " 36%|███▋      | 78/214 [03:23<06:38,  2.93s/it]2s/it]\u001b[31m\u001b[1mThe `response.parts` quick accessor only works for a single candidate, but none were returned. Check the `response.prompt_feedback` to see if the prompt was blocked.\u001b[0m\u001b[36m @ 2024-04-21 13:16:00,864\u001b[0m\n",
      " 49%|████▊     | 104/214 [04:30<05:39,  3.09s/it]\u001b[31m\u001b[1m504 Deadline Exceeded\u001b[0m\u001b[36m @ 2024-04-21 13:18:07,543\u001b[0m\n",
      " 72%|███████▏  | 155/214 [07:43<02:09,  2.20s/it]\u001b[31m\u001b[1mThe `response.parts` quick accessor only works for a single candidate, but none were returned. Check the `response.prompt_feedback` to see if the prompt was blocked.\u001b[0m\u001b[36m @ 2024-04-21 13:20:21,390\u001b[0m\n",
      "100%|██████████| 214/214 [09:46<00:00,  2.74s/it]\n",
      "100%|██████████| 44/44 [01:55<00:00,  2.63s/it]20s/it]\n",
      "100%|██████████| 15/15 [00:50<00:00,  3.36s/it]49s/it]\n",
      "100%|██████████| 59/59 [02:29<00:00,  2.53s/it]97s/it]\n",
      "100%|██████████| 31/31 [01:31<00:00,  2.95s/it]31s/it]\n",
      "100%|██████████| 48/48 [02:00<00:00,  2.51s/it]31s/it]\n",
      " 53%|█████▎    | 50/94 [02:07<01:58,  2.70s/it]43s/it]\u001b[31m\u001b[1m504 Deadline Exceeded\u001b[0m\u001b[36m @ 2024-04-21 13:34:18,665\u001b[0m\n",
      "100%|██████████| 94/94 [05:20<00:00,  3.41s/it]\n",
      "100%|██████████| 120/120 [05:01<00:00,  2.52s/it]s/it]\n",
      "100%|██████████| 43/43 [02:24<00:00,  3.36s/it]38s/it]\n",
      " 33%|███▎      | 1/3 [00:02<00:05,  2.51s/it]3.47s/it]\u001b[31m\u001b[1mThe `response.parts` quick accessor only works for a single candidate, but none were returned. Check the `response.prompt_feedback` to see if the prompt was blocked.\u001b[0m\u001b[36m @ 2024-04-21 13:44:03,342\u001b[0m\n",
      "100%|██████████| 3/3 [00:08<00:00,  2.79s/it]\n",
      " 82%|████████▏ | 135/165 [05:24<01:02,  2.08s/it]s/it]\u001b[31m\u001b[1mTimeout of 60.0s exceeded, last exception: 503 failed to connect to all addresses; last error: UNKNOWN: ipv4:142.250.31.95:443: tcp handshaker shutdown\u001b[0m\u001b[36m @ 2024-04-21 13:50:30,923\u001b[0m\n",
      "100%|██████████| 165/165 [08:10<00:00,  2.97s/it]\n",
      "100%|██████████| 72/72 [03:09<00:00,  2.63s/it]73s/it]\n",
      "100%|██████████| 90/90 [04:03<00:00,  2.71s/it]17s/it]\n",
      "  7%|▋         | 6/83 [00:14<03:22,  2.64s/it].51s/it]\u001b[31m\u001b[1mThe `response.parts` quick accessor only works for a single candidate, but none were returned. Check the `response.prompt_feedback` to see if the prompt was blocked.\u001b[0m\u001b[36m @ 2024-04-21 13:59:47,260\u001b[0m\n",
      " 11%|█         | 9/83 [00:21<02:54,  2.36s/it]\u001b[31m\u001b[1mThe `response.parts` quick accessor only works for a single candidate, but none were returned. Check the `response.prompt_feedback` to see if the prompt was blocked.\u001b[0m\u001b[36m @ 2024-04-21 13:59:53,722\u001b[0m\n",
      " 96%|█████████▋| 80/83 [03:10<00:08,  2.74s/it]\u001b[31m\u001b[1mThe `response.parts` quick accessor only works for a single candidate, but none were returned. Check the `response.prompt_feedback` to see if the prompt was blocked.\u001b[0m\u001b[36m @ 2024-04-21 14:02:42,339\u001b[0m\n",
      "100%|██████████| 83/83 [03:15<00:00,  2.35s/it]\n",
      "100%|██████████| 50/50 [02:30<00:00,  3.00s/it]11s/it]\n",
      "0it [00:00, ?it/s]5/398 [3:23:43<14:01:07, 156.25s/it]\n",
      "  9%|▉         | 8/85 [00:24<03:58,  3.09s/it]\u001b[31m\u001b[1m504 Deadline Exceeded\u001b[0m\u001b[36m @ 2024-04-21 14:06:41,476\u001b[0m\n",
      "100%|██████████| 85/85 [05:30<00:00,  3.89s/it]\n",
      "100%|██████████| 184/184 [07:06<00:00,  2.32s/it]s/it]\n",
      " 97%|█████████▋| 95/98 [04:00<00:07,  2.53s/it]25s/it]\u001b[31m\u001b[1m504 Deadline Exceeded\u001b[0m\u001b[36m @ 2024-04-21 14:22:54,928\u001b[0m\n",
      " 98%|█████████▊| 96/98 [05:00<00:39, 19.77s/it]\u001b[31m\u001b[1m504 Deadline Exceeded\u001b[0m\u001b[36m @ 2024-04-21 14:32:46,276\u001b[0m\n",
      " 99%|█████████▉| 97/98 [14:52<03:11, 191.24s/it]\u001b[31m\u001b[1m504 Deadline Exceeded\u001b[0m\u001b[36m @ 2024-04-21 14:37:41,548\u001b[0m\n",
      "100%|██████████| 98/98 [19:47<00:00, 12.12s/it] \n",
      "  0%|          | 0/96 [00:00<?, ?it/s]:29, 386.88s/it]\u001b[31m\u001b[1m504 Deadline Exceeded\u001b[0m\u001b[36m @ 2024-04-21 14:44:16,521\u001b[0m\n",
      "  1%|          | 1/96 [06:34<10:25:14, 394.89s/it]\u001b[31m\u001b[1mTimeout of 60.0s exceeded, last exception: 503 failed to connect to all addresses; last error: UNKNOWN: ipv4:142.250.31.95:443: Network is unreachable\u001b[0m\u001b[36m @ 2024-04-21 14:45:14,753\u001b[0m\n",
      "  2%|▏         | 2/96 [07:33<5:08:24, 196.85s/it] \u001b[31m\u001b[1m￨ KeyboardInterrupt \u001b[0m\u001b[36m @ 2024-04-21 14:45:18,785\u001b[0m\n",
      "  2%|▏         | 2/96 [07:37<5:58:06, 228.58s/it]\n",
      " 20%|██        | 80/398 [4:03:44<16:08:54, 182.81s/it]\n"
     ]
    },
    {
     "ename": "KeyboardInterrupt",
     "evalue": "",
     "output_type": "error",
     "traceback": [
      "\u001b[0;31m---------------------------------------------------------------------------\u001b[0m",
      "\u001b[0;31m_InactiveRpcError\u001b[0m                         Traceback (most recent call last)",
      "File \u001b[0;32m~/github/llmdh/venv/lib/python3.12/site-packages/google/api_core/grpc_helpers.py:76\u001b[0m, in \u001b[0;36m_wrap_unary_errors.<locals>.error_remapped_callable\u001b[0;34m(*args, **kwargs)\u001b[0m\n\u001b[1;32m     75\u001b[0m \u001b[38;5;28;01mtry\u001b[39;00m:\n\u001b[0;32m---> 76\u001b[0m     \u001b[38;5;28;01mreturn\u001b[39;00m \u001b[43mcallable_\u001b[49m\u001b[43m(\u001b[49m\u001b[38;5;241;43m*\u001b[39;49m\u001b[43margs\u001b[49m\u001b[43m,\u001b[49m\u001b[43m \u001b[49m\u001b[38;5;241;43m*\u001b[39;49m\u001b[38;5;241;43m*\u001b[39;49m\u001b[43mkwargs\u001b[49m\u001b[43m)\u001b[49m\n\u001b[1;32m     77\u001b[0m \u001b[38;5;28;01mexcept\u001b[39;00m grpc\u001b[38;5;241m.\u001b[39mRpcError \u001b[38;5;28;01mas\u001b[39;00m exc:\n",
      "File \u001b[0;32m~/github/llmdh/venv/lib/python3.12/site-packages/grpc/_channel.py:1176\u001b[0m, in \u001b[0;36m_UnaryUnaryMultiCallable.__call__\u001b[0;34m(self, request, timeout, metadata, credentials, wait_for_ready, compression)\u001b[0m\n\u001b[1;32m   1170\u001b[0m (\n\u001b[1;32m   1171\u001b[0m     state,\n\u001b[1;32m   1172\u001b[0m     call,\n\u001b[1;32m   1173\u001b[0m ) \u001b[38;5;241m=\u001b[39m \u001b[38;5;28mself\u001b[39m\u001b[38;5;241m.\u001b[39m_blocking(\n\u001b[1;32m   1174\u001b[0m     request, timeout, metadata, credentials, wait_for_ready, compression\n\u001b[1;32m   1175\u001b[0m )\n\u001b[0;32m-> 1176\u001b[0m \u001b[38;5;28;01mreturn\u001b[39;00m \u001b[43m_end_unary_response_blocking\u001b[49m\u001b[43m(\u001b[49m\u001b[43mstate\u001b[49m\u001b[43m,\u001b[49m\u001b[43m \u001b[49m\u001b[43mcall\u001b[49m\u001b[43m,\u001b[49m\u001b[43m \u001b[49m\u001b[38;5;28;43;01mFalse\u001b[39;49;00m\u001b[43m,\u001b[49m\u001b[43m \u001b[49m\u001b[38;5;28;43;01mNone\u001b[39;49;00m\u001b[43m)\u001b[49m\n",
      "File \u001b[0;32m~/github/llmdh/venv/lib/python3.12/site-packages/grpc/_channel.py:1005\u001b[0m, in \u001b[0;36m_end_unary_response_blocking\u001b[0;34m(state, call, with_call, deadline)\u001b[0m\n\u001b[1;32m   1004\u001b[0m \u001b[38;5;28;01melse\u001b[39;00m:\n\u001b[0;32m-> 1005\u001b[0m     \u001b[38;5;28;01mraise\u001b[39;00m _InactiveRpcError(state)\n",
      "\u001b[0;31m_InactiveRpcError\u001b[0m: <_InactiveRpcError of RPC that terminated with:\n\tstatus = StatusCode.UNAVAILABLE\n\tdetails = \"failed to connect to all addresses; last error: UNKNOWN: ipv4:172.253.62.95:443: Network is unreachable\"\n\tdebug_error_string = \"UNKNOWN:Error received from peer  {grpc_message:\"failed to connect to all addresses; last error: UNKNOWN: ipv4:172.253.62.95:443: Network is unreachable\", grpc_status:14, created_time:\"2024-04-21T14:45:18.368924+01:00\"}\"\n>",
      "\nThe above exception was the direct cause of the following exception:\n",
      "\u001b[0;31mServiceUnavailable\u001b[0m                        Traceback (most recent call last)",
      "File \u001b[0;32m~/github/llmdh/venv/lib/python3.12/site-packages/google/api_core/retry/retry_unary.py:144\u001b[0m, in \u001b[0;36mretry_target\u001b[0;34m(target, predicate, sleep_generator, timeout, on_error, exception_factory, **kwargs)\u001b[0m\n\u001b[1;32m    143\u001b[0m \u001b[38;5;28;01mtry\u001b[39;00m:\n\u001b[0;32m--> 144\u001b[0m     result \u001b[38;5;241m=\u001b[39m \u001b[43mtarget\u001b[49m\u001b[43m(\u001b[49m\u001b[43m)\u001b[49m\n\u001b[1;32m    145\u001b[0m     \u001b[38;5;28;01mif\u001b[39;00m inspect\u001b[38;5;241m.\u001b[39misawaitable(result):\n",
      "File \u001b[0;32m~/github/llmdh/venv/lib/python3.12/site-packages/google/api_core/timeout.py:120\u001b[0m, in \u001b[0;36mTimeToDeadlineTimeout.__call__.<locals>.func_with_timeout\u001b[0;34m(*args, **kwargs)\u001b[0m\n\u001b[1;32m    118\u001b[0m     kwargs[\u001b[38;5;124m\"\u001b[39m\u001b[38;5;124mtimeout\u001b[39m\u001b[38;5;124m\"\u001b[39m] \u001b[38;5;241m=\u001b[39m \u001b[38;5;28mmax\u001b[39m(\u001b[38;5;241m0\u001b[39m, \u001b[38;5;28mself\u001b[39m\u001b[38;5;241m.\u001b[39m_timeout \u001b[38;5;241m-\u001b[39m time_since_first_attempt)\n\u001b[0;32m--> 120\u001b[0m \u001b[38;5;28;01mreturn\u001b[39;00m \u001b[43mfunc\u001b[49m\u001b[43m(\u001b[49m\u001b[38;5;241;43m*\u001b[39;49m\u001b[43margs\u001b[49m\u001b[43m,\u001b[49m\u001b[43m \u001b[49m\u001b[38;5;241;43m*\u001b[39;49m\u001b[38;5;241;43m*\u001b[39;49m\u001b[43mkwargs\u001b[49m\u001b[43m)\u001b[49m\n",
      "File \u001b[0;32m~/github/llmdh/venv/lib/python3.12/site-packages/google/api_core/grpc_helpers.py:78\u001b[0m, in \u001b[0;36m_wrap_unary_errors.<locals>.error_remapped_callable\u001b[0;34m(*args, **kwargs)\u001b[0m\n\u001b[1;32m     77\u001b[0m \u001b[38;5;28;01mexcept\u001b[39;00m grpc\u001b[38;5;241m.\u001b[39mRpcError \u001b[38;5;28;01mas\u001b[39;00m exc:\n\u001b[0;32m---> 78\u001b[0m     \u001b[38;5;28;01mraise\u001b[39;00m exceptions\u001b[38;5;241m.\u001b[39mfrom_grpc_error(exc) \u001b[38;5;28;01mfrom\u001b[39;00m \u001b[38;5;21;01mexc\u001b[39;00m\n",
      "\u001b[0;31mServiceUnavailable\u001b[0m: 503 failed to connect to all addresses; last error: UNKNOWN: ipv4:172.253.62.95:443: Network is unreachable",
      "\nDuring handling of the above exception, another exception occurred:\n",
      "\u001b[0;31mKeyboardInterrupt\u001b[0m                         Traceback (most recent call last)",
      "Cell \u001b[0;32mIn[59], line 1\u001b[0m\n\u001b[0;32m----> 1\u001b[0m \u001b[43mparse_all_scripts\u001b[49m\u001b[43m(\u001b[49m\u001b[43mids\u001b[49m\u001b[43m,\u001b[49m\u001b[43m \u001b[49m\u001b[43mmodel\u001b[49m\u001b[38;5;241;43m=\u001b[39;49m\u001b[38;5;124;43m'\u001b[39;49m\u001b[38;5;124;43mgemini-pro\u001b[39;49m\u001b[38;5;124;43m'\u001b[39;49m\u001b[43m)\u001b[49m\n",
      "Cell \u001b[0;32mIn[58], line 3\u001b[0m, in \u001b[0;36mparse_all_scripts\u001b[0;34m(ids, model)\u001b[0m\n\u001b[1;32m      1\u001b[0m \u001b[38;5;28;01mdef\u001b[39;00m \u001b[38;5;21mparse_all_scripts\u001b[39m(ids, model\u001b[38;5;241m=\u001b[39m\u001b[38;5;124m'\u001b[39m\u001b[38;5;124mgemini-pro\u001b[39m\u001b[38;5;124m'\u001b[39m):\n\u001b[1;32m      2\u001b[0m     \u001b[38;5;28;01mfor\u001b[39;00m \u001b[38;5;28mid\u001b[39m \u001b[38;5;129;01min\u001b[39;00m tqdm(ids,position\u001b[38;5;241m=\u001b[39m\u001b[38;5;241m0\u001b[39m):\n\u001b[0;32m----> 3\u001b[0m         \u001b[43mparse_script\u001b[49m\u001b[43m(\u001b[49m\u001b[38;5;28;43mid\u001b[39;49m\u001b[43m,\u001b[49m\u001b[43mprogress\u001b[49m\u001b[38;5;241;43m=\u001b[39;49m\u001b[38;5;28;43;01mTrue\u001b[39;49;00m\u001b[43m,\u001b[49m\u001b[43m \u001b[49m\u001b[43mmodel\u001b[49m\u001b[38;5;241;43m=\u001b[39;49m\u001b[43mmodel\u001b[49m\u001b[43m)\u001b[49m\n",
      "Cell \u001b[0;32mIn[56], line 8\u001b[0m, in \u001b[0;36mparse_script\u001b[0;34m(id, model, force, progress)\u001b[0m\n\u001b[1;32m      6\u001b[0m o\u001b[38;5;241m=\u001b[39m[]\n\u001b[1;32m      7\u001b[0m \u001b[38;5;28;01mfor\u001b[39;00m scene_num,scene \u001b[38;5;129;01min\u001b[39;00m tqdm(\u001b[38;5;28mlist\u001b[39m(iter_scenes(\u001b[38;5;28mid\u001b[39m)),position\u001b[38;5;241m=\u001b[39m\u001b[38;5;241m0\u001b[39m, disable\u001b[38;5;241m=\u001b[39m\u001b[38;5;129;01mnot\u001b[39;00m progress):\n\u001b[0;32m----> 8\u001b[0m     res\u001b[38;5;241m=\u001b[39m\u001b[43mLLM\u001b[49m\u001b[38;5;241;43m.\u001b[39;49m\u001b[43mgenerate\u001b[49m\u001b[43m(\u001b[49m\n\u001b[1;32m      9\u001b[0m \u001b[43m        \u001b[49m\u001b[43mscene\u001b[49m\u001b[43m,\u001b[49m\n\u001b[1;32m     10\u001b[0m \u001b[43m        \u001b[49m\u001b[43msystem_prompt\u001b[49m\u001b[38;5;241;43m=\u001b[39;49m\u001b[43msystem_prompt\u001b[49m\u001b[43m,\u001b[49m\n\u001b[1;32m     11\u001b[0m \u001b[43m        \u001b[49m\u001b[43mexample_prompts\u001b[49m\u001b[38;5;241;43m=\u001b[39;49m\u001b[43mexample_prompts\u001b[49m\u001b[43m,\u001b[49m\n\u001b[1;32m     12\u001b[0m \u001b[43m        \u001b[49m\u001b[43mmodel\u001b[49m\u001b[38;5;241;43m=\u001b[39;49m\u001b[43mmodel\u001b[49m\u001b[43m,\u001b[49m\n\u001b[1;32m     13\u001b[0m \u001b[43m        \u001b[49m\u001b[43mverbose\u001b[49m\u001b[38;5;241;43m=\u001b[39;49m\u001b[38;5;28;43;01mFalse\u001b[39;49;00m\n\u001b[1;32m     14\u001b[0m \u001b[43m    \u001b[49m\u001b[43m)\u001b[49m\n\u001b[1;32m     15\u001b[0m     \u001b[38;5;28;01mtry\u001b[39;00m:\n\u001b[1;32m     16\u001b[0m         resd\u001b[38;5;241m=\u001b[39mjson\u001b[38;5;241m.\u001b[39mloads(\u001b[38;5;124m'\u001b[39m\u001b[38;5;124m{\u001b[39m\u001b[38;5;124m'\u001b[39m \u001b[38;5;241m+\u001b[39m res\u001b[38;5;241m.\u001b[39msplit(\u001b[38;5;124m'\u001b[39m\u001b[38;5;124m{\u001b[39m\u001b[38;5;124m'\u001b[39m,\u001b[38;5;241m1\u001b[39m)[\u001b[38;5;241m-\u001b[39m\u001b[38;5;241m1\u001b[39m]\u001b[38;5;241m.\u001b[39msplit(\u001b[38;5;124m'\u001b[39m\u001b[38;5;124m}\u001b[39m\u001b[38;5;124m'\u001b[39m)[\u001b[38;5;241m0\u001b[39m] \u001b[38;5;241m+\u001b[39m \u001b[38;5;124m'\u001b[39m\u001b[38;5;124m}\u001b[39m\u001b[38;5;124m'\u001b[39m)\n",
      "File \u001b[0;32m~/github/llmdh/notebooks/../llmdh/llms.py:89\u001b[0m, in \u001b[0;36mLLM.generate\u001b[0;34m(cls, user_prompt, system_prompt, example_prompts, model, verbose, max_tokens, name, **kwargs)\u001b[0m\n\u001b[1;32m     78\u001b[0m kwargs \u001b[38;5;241m=\u001b[39m \u001b[38;5;28mdict\u001b[39m(\n\u001b[1;32m     79\u001b[0m     user_prompt\u001b[38;5;241m=\u001b[39muser_prompt \u001b[38;5;28;01mif\u001b[39;00m user_prompt \u001b[38;5;28;01melse\u001b[39;00m \u001b[38;5;28mcls\u001b[39m\u001b[38;5;241m.\u001b[39muser_prompt,\n\u001b[1;32m     80\u001b[0m     system_prompt\u001b[38;5;241m=\u001b[39msystem_prompt \u001b[38;5;28;01mif\u001b[39;00m system_prompt \u001b[38;5;28;01melse\u001b[39;00m \u001b[38;5;28mcls\u001b[39m\u001b[38;5;241m.\u001b[39msystem_prompt,\n\u001b[0;32m   (...)\u001b[0m\n\u001b[1;32m     86\u001b[0m     \u001b[38;5;241m*\u001b[39m\u001b[38;5;241m*\u001b[39mkwargs,\n\u001b[1;32m     87\u001b[0m )\n\u001b[1;32m     88\u001b[0m \u001b[38;5;28;01mif\u001b[39;00m \u001b[38;5;124m\"\u001b[39m\u001b[38;5;124mgemini\u001b[39m\u001b[38;5;124m\"\u001b[39m \u001b[38;5;129;01min\u001b[39;00m model:\n\u001b[0;32m---> 89\u001b[0m     \u001b[38;5;28;01mreturn\u001b[39;00m \u001b[38;5;28;43mcls\u001b[39;49m\u001b[38;5;241;43m.\u001b[39;49m\u001b[43mgenerate_gemini\u001b[49m\u001b[43m(\u001b[49m\u001b[38;5;241;43m*\u001b[39;49m\u001b[38;5;241;43m*\u001b[39;49m\u001b[43mkwargs\u001b[49m\u001b[43m)\u001b[49m\n\u001b[1;32m     90\u001b[0m \u001b[38;5;28;01melif\u001b[39;00m \u001b[38;5;124m\"\u001b[39m\u001b[38;5;124mgpt\u001b[39m\u001b[38;5;124m\"\u001b[39m \u001b[38;5;129;01min\u001b[39;00m model:\n\u001b[1;32m     91\u001b[0m     \u001b[38;5;28;01mreturn\u001b[39;00m \u001b[38;5;28mcls\u001b[39m\u001b[38;5;241m.\u001b[39mgenerate_openai(\u001b[38;5;241m*\u001b[39m\u001b[38;5;241m*\u001b[39mkwargs)\n",
      "File \u001b[0;32m~/github/llmdh/notebooks/../llmdh/llms.py:214\u001b[0m, in \u001b[0;36mLLM.generate_gemini\u001b[0;34m(cls, user_prompt, model, verbose, name, temp, *args, **kwargs)\u001b[0m\n\u001b[1;32m    211\u001b[0m     lm\u001b[38;5;241m.\u001b[39mlog(\u001b[38;5;124mf\u001b[39m\u001b[38;5;124m\"\u001b[39m\u001b[38;5;124mPROMPT: \u001b[39m\u001b[38;5;132;01m{\u001b[39;00mprompt\u001b[38;5;132;01m}\u001b[39;00m\u001b[38;5;124m\"\u001b[39m)\n\u001b[1;32m    212\u001b[0m \u001b[38;5;28;01mtry\u001b[39;00m:\n\u001b[1;32m    213\u001b[0m     \u001b[38;5;66;03m# res = gemini_api().generate_content(prompt)\u001b[39;00m\n\u001b[0;32m--> 214\u001b[0m     res \u001b[38;5;241m=\u001b[39m \u001b[38;5;28;43mcls\u001b[39;49m\u001b[38;5;241;43m.\u001b[39;49m\u001b[43mgemini_api\u001b[49m\u001b[43m(\u001b[49m\u001b[43m)\u001b[49m\u001b[38;5;241;43m.\u001b[39;49m\u001b[43mgenerate_content\u001b[49m\u001b[43m(\u001b[49m\n\u001b[1;32m    215\u001b[0m \u001b[43m        \u001b[49m\u001b[43mprompt\u001b[49m\u001b[43m,\u001b[49m\n\u001b[1;32m    216\u001b[0m \u001b[43m        \u001b[49m\u001b[43mgeneration_config\u001b[49m\u001b[38;5;241;43m=\u001b[39;49m\u001b[43mGenerationConfig\u001b[49m\u001b[43m(\u001b[49m\n\u001b[1;32m    217\u001b[0m \u001b[43m            \u001b[49m\u001b[43mmax_output_tokens\u001b[49m\u001b[38;5;241;43m=\u001b[39;49m\u001b[43mMAX_TOKENS\u001b[49m\u001b[43m,\u001b[49m\n\u001b[1;32m    218\u001b[0m \u001b[43m            \u001b[49m\u001b[43mtemperature\u001b[49m\u001b[38;5;241;43m=\u001b[39;49m\u001b[43mtemp\u001b[49m\u001b[43m,\u001b[49m\n\u001b[1;32m    219\u001b[0m \u001b[43m        \u001b[49m\u001b[43m)\u001b[49m\u001b[43m,\u001b[49m\n\u001b[1;32m    220\u001b[0m \u001b[43m        \u001b[49m\u001b[43msafety_settings\u001b[49m\u001b[38;5;241;43m=\u001b[39;49m\u001b[43m{\u001b[49m\n\u001b[1;32m    221\u001b[0m \u001b[43m            \u001b[49m\u001b[43mHarmCategory\u001b[49m\u001b[38;5;241;43m.\u001b[39;49m\u001b[43mHARM_CATEGORY_HATE_SPEECH\u001b[49m\u001b[43m:\u001b[49m\u001b[43m \u001b[49m\u001b[43mHarmBlockThreshold\u001b[49m\u001b[38;5;241;43m.\u001b[39;49m\u001b[43mBLOCK_NONE\u001b[49m\u001b[43m,\u001b[49m\n\u001b[1;32m    222\u001b[0m \u001b[43m            \u001b[49m\u001b[43mHarmCategory\u001b[49m\u001b[38;5;241;43m.\u001b[39;49m\u001b[43mHARM_CATEGORY_HARASSMENT\u001b[49m\u001b[43m:\u001b[49m\u001b[43m \u001b[49m\u001b[43mHarmBlockThreshold\u001b[49m\u001b[38;5;241;43m.\u001b[39;49m\u001b[43mBLOCK_NONE\u001b[49m\u001b[43m,\u001b[49m\n\u001b[1;32m    223\u001b[0m \u001b[43m            \u001b[49m\u001b[43mHarmCategory\u001b[49m\u001b[38;5;241;43m.\u001b[39;49m\u001b[43mHARM_CATEGORY_SEXUALLY_EXPLICIT\u001b[49m\u001b[43m:\u001b[49m\u001b[43m \u001b[49m\u001b[43mHarmBlockThreshold\u001b[49m\u001b[38;5;241;43m.\u001b[39;49m\u001b[43mBLOCK_NONE\u001b[49m\u001b[43m,\u001b[49m\n\u001b[1;32m    224\u001b[0m \u001b[43m            \u001b[49m\u001b[43mHarmCategory\u001b[49m\u001b[38;5;241;43m.\u001b[39;49m\u001b[43mHARM_CATEGORY_DANGEROUS_CONTENT\u001b[49m\u001b[43m:\u001b[49m\u001b[43m \u001b[49m\u001b[43mHarmBlockThreshold\u001b[49m\u001b[38;5;241;43m.\u001b[39;49m\u001b[43mBLOCK_NONE\u001b[49m\u001b[43m,\u001b[49m\n\u001b[1;32m    225\u001b[0m \u001b[43m        \u001b[49m\u001b[43m}\u001b[49m\u001b[43m,\u001b[49m\n\u001b[1;32m    226\u001b[0m \u001b[43m    \u001b[49m\u001b[43m)\u001b[49m\n\u001b[1;32m    228\u001b[0m     text \u001b[38;5;241m=\u001b[39m \u001b[38;5;124m\"\u001b[39m\u001b[38;5;130;01m\\n\u001b[39;00m\u001b[38;5;130;01m\\n\u001b[39;00m\u001b[38;5;124m\"\u001b[39m\u001b[38;5;241m.\u001b[39mjoin(\n\u001b[1;32m    229\u001b[0m         part\u001b[38;5;241m.\u001b[39mtext \u001b[38;5;28;01mfor\u001b[39;00m part \u001b[38;5;129;01min\u001b[39;00m res\u001b[38;5;241m.\u001b[39mparts \u001b[38;5;28;01mif\u001b[39;00m \u001b[38;5;28mhasattr\u001b[39m(part, \u001b[38;5;124m\"\u001b[39m\u001b[38;5;124mtext\u001b[39m\u001b[38;5;124m\"\u001b[39m)\n\u001b[1;32m    230\u001b[0m     )\n\u001b[1;32m    231\u001b[0m     \u001b[38;5;28;01mif\u001b[39;00m verbose:\n",
      "File \u001b[0;32m~/github/llmdh/venv/lib/python3.12/site-packages/google/generativeai/generative_models.py:232\u001b[0m, in \u001b[0;36mGenerativeModel.generate_content\u001b[0;34m(self, contents, generation_config, safety_settings, stream, tools, request_options)\u001b[0m\n\u001b[1;32m    230\u001b[0m     \u001b[38;5;28;01mreturn\u001b[39;00m generation_types\u001b[38;5;241m.\u001b[39mGenerateContentResponse\u001b[38;5;241m.\u001b[39mfrom_iterator(iterator)\n\u001b[1;32m    231\u001b[0m \u001b[38;5;28;01melse\u001b[39;00m:\n\u001b[0;32m--> 232\u001b[0m     response \u001b[38;5;241m=\u001b[39m \u001b[38;5;28;43mself\u001b[39;49m\u001b[38;5;241;43m.\u001b[39;49m\u001b[43m_client\u001b[49m\u001b[38;5;241;43m.\u001b[39;49m\u001b[43mgenerate_content\u001b[49m\u001b[43m(\u001b[49m\n\u001b[1;32m    233\u001b[0m \u001b[43m        \u001b[49m\u001b[43mrequest\u001b[49m\u001b[43m,\u001b[49m\n\u001b[1;32m    234\u001b[0m \u001b[43m        \u001b[49m\u001b[38;5;241;43m*\u001b[39;49m\u001b[38;5;241;43m*\u001b[39;49m\u001b[43mrequest_options\u001b[49m\u001b[43m,\u001b[49m\n\u001b[1;32m    235\u001b[0m \u001b[43m    \u001b[49m\u001b[43m)\u001b[49m\n\u001b[1;32m    236\u001b[0m     \u001b[38;5;28;01mreturn\u001b[39;00m generation_types\u001b[38;5;241m.\u001b[39mGenerateContentResponse\u001b[38;5;241m.\u001b[39mfrom_response(response)\n",
      "File \u001b[0;32m~/github/llmdh/venv/lib/python3.12/site-packages/google/ai/generativelanguage_v1beta/services/generative_service/client.py:566\u001b[0m, in \u001b[0;36mGenerativeServiceClient.generate_content\u001b[0;34m(self, request, model, contents, retry, timeout, metadata)\u001b[0m\n\u001b[1;32m    561\u001b[0m metadata \u001b[38;5;241m=\u001b[39m \u001b[38;5;28mtuple\u001b[39m(metadata) \u001b[38;5;241m+\u001b[39m (\n\u001b[1;32m    562\u001b[0m     gapic_v1\u001b[38;5;241m.\u001b[39mrouting_header\u001b[38;5;241m.\u001b[39mto_grpc_metadata(((\u001b[38;5;124m\"\u001b[39m\u001b[38;5;124mmodel\u001b[39m\u001b[38;5;124m\"\u001b[39m, request\u001b[38;5;241m.\u001b[39mmodel),)),\n\u001b[1;32m    563\u001b[0m )\n\u001b[1;32m    565\u001b[0m \u001b[38;5;66;03m# Send the request.\u001b[39;00m\n\u001b[0;32m--> 566\u001b[0m response \u001b[38;5;241m=\u001b[39m \u001b[43mrpc\u001b[49m\u001b[43m(\u001b[49m\n\u001b[1;32m    567\u001b[0m \u001b[43m    \u001b[49m\u001b[43mrequest\u001b[49m\u001b[43m,\u001b[49m\n\u001b[1;32m    568\u001b[0m \u001b[43m    \u001b[49m\u001b[43mretry\u001b[49m\u001b[38;5;241;43m=\u001b[39;49m\u001b[43mretry\u001b[49m\u001b[43m,\u001b[49m\n\u001b[1;32m    569\u001b[0m \u001b[43m    \u001b[49m\u001b[43mtimeout\u001b[49m\u001b[38;5;241;43m=\u001b[39;49m\u001b[43mtimeout\u001b[49m\u001b[43m,\u001b[49m\n\u001b[1;32m    570\u001b[0m \u001b[43m    \u001b[49m\u001b[43mmetadata\u001b[49m\u001b[38;5;241;43m=\u001b[39;49m\u001b[43mmetadata\u001b[49m\u001b[43m,\u001b[49m\n\u001b[1;32m    571\u001b[0m \u001b[43m\u001b[49m\u001b[43m)\u001b[49m\n\u001b[1;32m    573\u001b[0m \u001b[38;5;66;03m# Done; return the response.\u001b[39;00m\n\u001b[1;32m    574\u001b[0m \u001b[38;5;28;01mreturn\u001b[39;00m response\n",
      "File \u001b[0;32m~/github/llmdh/venv/lib/python3.12/site-packages/google/api_core/gapic_v1/method.py:131\u001b[0m, in \u001b[0;36m_GapicCallable.__call__\u001b[0;34m(self, timeout, retry, compression, *args, **kwargs)\u001b[0m\n\u001b[1;32m    128\u001b[0m \u001b[38;5;28;01mif\u001b[39;00m \u001b[38;5;28mself\u001b[39m\u001b[38;5;241m.\u001b[39m_compression \u001b[38;5;129;01mis\u001b[39;00m \u001b[38;5;129;01mnot\u001b[39;00m \u001b[38;5;28;01mNone\u001b[39;00m:\n\u001b[1;32m    129\u001b[0m     kwargs[\u001b[38;5;124m\"\u001b[39m\u001b[38;5;124mcompression\u001b[39m\u001b[38;5;124m\"\u001b[39m] \u001b[38;5;241m=\u001b[39m compression\n\u001b[0;32m--> 131\u001b[0m \u001b[38;5;28;01mreturn\u001b[39;00m \u001b[43mwrapped_func\u001b[49m\u001b[43m(\u001b[49m\u001b[38;5;241;43m*\u001b[39;49m\u001b[43margs\u001b[49m\u001b[43m,\u001b[49m\u001b[43m \u001b[49m\u001b[38;5;241;43m*\u001b[39;49m\u001b[38;5;241;43m*\u001b[39;49m\u001b[43mkwargs\u001b[49m\u001b[43m)\u001b[49m\n",
      "File \u001b[0;32m~/github/llmdh/venv/lib/python3.12/site-packages/google/api_core/retry/retry_unary.py:293\u001b[0m, in \u001b[0;36mRetry.__call__.<locals>.retry_wrapped_func\u001b[0;34m(*args, **kwargs)\u001b[0m\n\u001b[1;32m    289\u001b[0m target \u001b[38;5;241m=\u001b[39m functools\u001b[38;5;241m.\u001b[39mpartial(func, \u001b[38;5;241m*\u001b[39margs, \u001b[38;5;241m*\u001b[39m\u001b[38;5;241m*\u001b[39mkwargs)\n\u001b[1;32m    290\u001b[0m sleep_generator \u001b[38;5;241m=\u001b[39m exponential_sleep_generator(\n\u001b[1;32m    291\u001b[0m     \u001b[38;5;28mself\u001b[39m\u001b[38;5;241m.\u001b[39m_initial, \u001b[38;5;28mself\u001b[39m\u001b[38;5;241m.\u001b[39m_maximum, multiplier\u001b[38;5;241m=\u001b[39m\u001b[38;5;28mself\u001b[39m\u001b[38;5;241m.\u001b[39m_multiplier\n\u001b[1;32m    292\u001b[0m )\n\u001b[0;32m--> 293\u001b[0m \u001b[38;5;28;01mreturn\u001b[39;00m \u001b[43mretry_target\u001b[49m\u001b[43m(\u001b[49m\n\u001b[1;32m    294\u001b[0m \u001b[43m    \u001b[49m\u001b[43mtarget\u001b[49m\u001b[43m,\u001b[49m\n\u001b[1;32m    295\u001b[0m \u001b[43m    \u001b[49m\u001b[38;5;28;43mself\u001b[39;49m\u001b[38;5;241;43m.\u001b[39;49m\u001b[43m_predicate\u001b[49m\u001b[43m,\u001b[49m\n\u001b[1;32m    296\u001b[0m \u001b[43m    \u001b[49m\u001b[43msleep_generator\u001b[49m\u001b[43m,\u001b[49m\n\u001b[1;32m    297\u001b[0m \u001b[43m    \u001b[49m\u001b[43mtimeout\u001b[49m\u001b[38;5;241;43m=\u001b[39;49m\u001b[38;5;28;43mself\u001b[39;49m\u001b[38;5;241;43m.\u001b[39;49m\u001b[43m_timeout\u001b[49m\u001b[43m,\u001b[49m\n\u001b[1;32m    298\u001b[0m \u001b[43m    \u001b[49m\u001b[43mon_error\u001b[49m\u001b[38;5;241;43m=\u001b[39;49m\u001b[43mon_error\u001b[49m\u001b[43m,\u001b[49m\n\u001b[1;32m    299\u001b[0m \u001b[43m\u001b[49m\u001b[43m)\u001b[49m\n",
      "File \u001b[0;32m~/github/llmdh/venv/lib/python3.12/site-packages/google/api_core/retry/retry_unary.py:164\u001b[0m, in \u001b[0;36mretry_target\u001b[0;34m(target, predicate, sleep_generator, timeout, on_error, exception_factory, **kwargs)\u001b[0m\n\u001b[1;32m    153\u001b[0m         _retry_error_helper(\n\u001b[1;32m    154\u001b[0m             exc,\n\u001b[1;32m    155\u001b[0m             deadline,\n\u001b[0;32m   (...)\u001b[0m\n\u001b[1;32m    161\u001b[0m             timeout,\n\u001b[1;32m    162\u001b[0m         )\n\u001b[1;32m    163\u001b[0m         \u001b[38;5;66;03m# if exception not raised, sleep before next attempt\u001b[39;00m\n\u001b[0;32m--> 164\u001b[0m         \u001b[43mtime\u001b[49m\u001b[38;5;241;43m.\u001b[39;49m\u001b[43msleep\u001b[49m\u001b[43m(\u001b[49m\u001b[43msleep\u001b[49m\u001b[43m)\u001b[49m\n\u001b[1;32m    166\u001b[0m \u001b[38;5;28;01mraise\u001b[39;00m \u001b[38;5;167;01mValueError\u001b[39;00m(\u001b[38;5;124m\"\u001b[39m\u001b[38;5;124mSleep generator stopped yielding sleep values.\u001b[39m\u001b[38;5;124m\"\u001b[39m)\n",
      "\u001b[0;31mKeyboardInterrupt\u001b[0m: "
     ]
    },
    {
     "name": "stderr",
     "output_type": "stream",
     "text": [
      "E0421 14:45:41.240238000 11071418368 ssl_transport_security.cc:1519]   Handshake failed with fatal error SSL_ERROR_SSL: error:10000410:SSL routines:OPENSSL_internal:SSLV3_ALERT_HANDSHAKE_FAILURE.\n",
      "E0421 14:45:51.264949000 6238580736 ssl_transport_security.cc:1519]    Handshake failed with fatal error SSL_ERROR_SSL: error:10000410:SSL routines:OPENSSL_internal:SSLV3_ALERT_HANDSHAKE_FAILURE.\n"
     ]
    }
   ],
   "source": [
    "parse_all_scripts(ids, model='gemini-pro')"
   ]
  },
  {
   "cell_type": "code",
   "execution_count": null,
   "metadata": {},
   "outputs": [],
   "source": []
  },
  {
   "cell_type": "code",
   "execution_count": null,
   "metadata": {},
   "outputs": [],
   "source": []
  }
 ],
 "metadata": {
  "kernelspec": {
   "display_name": "venv",
   "language": "python",
   "name": "python3"
  },
  "language_info": {
   "codemirror_mode": {
    "name": "ipython",
    "version": 3
   },
   "file_extension": ".py",
   "mimetype": "text/x-python",
   "name": "python",
   "nbconvert_exporter": "python",
   "pygments_lexer": "ipython3",
   "version": "3.12.1"
  }
 },
 "nbformat": 4,
 "nbformat_minor": 2
}
