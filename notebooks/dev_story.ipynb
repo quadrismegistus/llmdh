{
 "cells": [
  {
   "cell_type": "code",
   "execution_count": null,
   "metadata": {},
   "outputs": [],
   "source": [
    "import sys\n",
    "sys.path.insert(0,'..')\n",
    "sys.path.insert(0,'/Users/ryan/github/prosodic')\n",
    "from llmdh import *\n",
    "from sqlitedict import SqliteDict\n",
    "import os"
   ]
  },
  {
   "cell_type": "code",
   "execution_count": null,
   "metadata": {},
   "outputs": [],
   "source": [
    "prompts=[\n",
    "    'Write a short story with 3 characters.',\n",
    "    'Write a story with 3 characters.',\n",
    "    'Write a story with at least 3 characters.',\n",
    "    'Write a short piece of fiction involving 3 characters.',\n",
    "    'Write a science fiction story involving 3 characters.',\n",
    "    'Write a story involving 3 characters in the genre of a fantasy novel.',\n",
    "    'Write a story set in Texas involving 3 characters.',\n",
    "    'Write a story set in New York City involving 3 characters.',\n",
    "    # 'Write a story involving at least 3 characters and 1 sex scene.',\n",
    "    'Write a short story in the romance genre.',\n",
    "    'Write a short piece of literary fiction.'\n",
    "]\n",
    "models = [\n",
    "    LLM_DEFAULT_MODEL_LOCAL,\n",
    "    'gpt-3.5-turbo',\n",
    "    'gpt-4-turbo',\n",
    "    'claude-3-opus-20240229', \n",
    "    'claude-3-sonnet-20240229', \n",
    "    'claude-3-haiku-20240307',\n",
    "    'gemini-pro'\n",
    "]\n",
    "\n",
    "def generate_lots(\n",
    "    prompts=prompts,\n",
    "    models = models,\n",
    "    dbfn='sqlitedict_stories.db'\n",
    "):\n",
    "    path_db=os.path.join(PATH_DATA,dbfn) if not os.path.isabs(dbfn) else dbfn\n",
    "    db=SqliteDict(path_db, autocommit=True)\n",
    "    while True:\n",
    "        prompt = random.choice(prompts)\n",
    "        model = random.choice(models)\n",
    "        temp = random.uniform(0.0, 2.0 if not 'claude' in model else 1.0)\n",
    "        txt = LLM.generate(prompt, temp=temp, model=model, verbose=False)\n",
    "        if not txt: continue\n",
    "        key=hashstr(model,temp,prompt,txt)\n",
    "        odx={'model':model, 'temp':temp, 'prompt':prompt, 'txt':txt}\n",
    "        db[key] = odx\n",
    "        print(txt)\n",
    "        print(f'—{model} (temp={temp:.2f}) [{prompt.replace(\"\\n\", \" / \")}]')\n",
    "        # time.sleep(random.uniform(3,10))"
   ]
  },
  {
   "cell_type": "code",
   "execution_count": 3,
   "metadata": {},
   "outputs": [],
   "source": [
    "generate_lots()"
   ]
  },
  {
   "cell_type": "code",
   "execution_count": null,
   "metadata": {},
   "outputs": [],
   "source": [
    "system_prompt='''You are a literary critic assessing whether stories pass the \"Bechdel test\", which involves 3 components: \n",
    "1. Does the story contain more than 1 female character?\n",
    "2. Do two female characters speak to one another?\n",
    "3. Do they speak about something other than a man?\n",
    "\n",
    "Read the following story and return valid JSON dictionary containing this information.\n",
    "'''\n",
    "\n",
    "example_prompts=[\n",
    "    (\n",
    "'''\n",
    "Emily and Emma were close friends, though a little jealous of each other. Neither knew which of them Michael, a mutual friend of theirs for many years, liked more.\n",
    "\n",
    "One day, Emily said to Emma, \"I don't know if I can live with this uncertainty. Michael has known both of us for years. When is he going to settle down?\"\n",
    "\n",
    "\"What are you implying, Emily?\"\n",
    "\n",
    "Just then, Michael entered the room, holding flowers. His eyes shifted from left to right, from Emily to Emma, before slowly opening his mouth and saying, \"I love you both equally. Let's become a throuple!\"\n",
    "\n",
    "Both Emily and Emma were disgusted, and left the room, never to speak to Michael again.\n",
    "''',\n",
    "'''\n",
    "{\n",
    "    \"female_characters\": [\"Emily\", \"Emma\"],\n",
    "    \"male_characters\": [\"Michael\"],\n",
    "    \"female_characters_speak_to_each_other\": true,\n",
    "    \"female_characters_speak_about_something_other_than_a_man\": false\n",
    "}\n",
    "'''\n",
    "    )\n",
    "]\n",
    "\n",
    "json_keys={\n",
    "    'female_characters',\n",
    "    \"male_characters\",\n",
    "    \"female_characters_speak_to_each_other\",\n",
    "    \"female_characters_speak_about_something_other_than_a_man\",\n",
    "}\n",
    "\n",
    "\n",
    "def get_bechdel_data(dbfn='sqlitedict_stories.db', force=False):\n",
    "    path_db=os.path.join(PATH_DATA,dbfn)\n",
    "    db=SqliteDict(path_db, autocommit=True)\n",
    "    # return pd.DataFrame(db[k] for k in db)\n",
    "    o=[]\n",
    "    keys=list(db.keys())[:5000]\n",
    "    # random.shuffle(keys)\n",
    "    for key in tqdm(keys):\n",
    "        data = db[key]\n",
    "        txt=data.get('txt')\n",
    "        if not txt: continue\n",
    "        if force or not 'bechdel' in data or len(data['bechdel'])!=5 or json_keys-set(data['bechdel'].keys()):\n",
    "            res = LLM.generate(\n",
    "                user_prompt=txt,\n",
    "                system_prompt=system_prompt,\n",
    "                example_prompts=example_prompts,\n",
    "                model='gpt-4-turbo'\n",
    "            )\n",
    "            if not '{' in res or not '}' in res: continue\n",
    "            res='{' + res.split('{',1)[-1].split('}',1)[0] + '}'\n",
    "            try:\n",
    "                resdata = json.loads(res)\n",
    "                femchar=resdata.get('female_characters',[])\n",
    "                resdata['more_than_1_female_character'] = len(femchar)>1\n",
    "                db[key] = {**data, 'bechdel':resdata}\n",
    "            except Exception as e:\n",
    "                print('!!',e)\n",
    "                continue\n",
    "        dat=db[key]\n",
    "        bech=dat.pop('bechdel')\n",
    "        odat={**dat, **bech}\n",
    "        o.append(odat)\n",
    "    return pd.DataFrame(o)"
   ]
  },
  {
   "cell_type": "code",
   "execution_count": null,
   "metadata": {},
   "outputs": [],
   "source": [
    "df=get_bechdel_data(force=False)"
   ]
  },
  {
   "cell_type": "code",
   "execution_count": null,
   "metadata": {},
   "outputs": [],
   "source": [
    "for k in ['female_characters_speak_to_each_other', 'female_characters_speak_about_something_other_than_a_man', 'more_than_1_female_character']:\n",
    "    df[k]=pd.to_numeric(df[k],errors='coerce')"
   ]
  },
  {
   "cell_type": "code",
   "execution_count": null,
   "metadata": {},
   "outputs": [],
   "source": [
    "df.model.value_counts()"
   ]
  },
  {
   "cell_type": "code",
   "execution_count": null,
   "metadata": {},
   "outputs": [],
   "source": [
    "df.groupby('model').mean(numeric_only=True).sort_values('female_characters_speak_about_something_other_than_a_man')"
   ]
  },
  {
   "cell_type": "code",
   "execution_count": null,
   "metadata": {},
   "outputs": [],
   "source": []
  },
  {
   "cell_type": "code",
   "execution_count": null,
   "metadata": {},
   "outputs": [],
   "source": []
  }
 ],
 "metadata": {
  "kernelspec": {
   "display_name": "venv",
   "language": "python",
   "name": "python3"
  },
  "language_info": {
   "codemirror_mode": {
    "name": "ipython",
    "version": 3
   },
   "file_extension": ".py",
   "mimetype": "text/x-python",
   "name": "python",
   "nbconvert_exporter": "python",
   "pygments_lexer": "ipython3",
   "version": "3.12.1"
  }
 },
 "nbformat": 4,
 "nbformat_minor": 2
}
